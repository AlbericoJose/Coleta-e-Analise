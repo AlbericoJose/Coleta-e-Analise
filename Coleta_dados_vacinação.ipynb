{
  "nbformat": 4,
  "nbformat_minor": 0,
  "metadata": {
    "colab": {
      "provenance": [],
      "include_colab_link": true
    },
    "kernelspec": {
      "name": "python3",
      "display_name": "Python 3"
    },
    "language_info": {
      "name": "python"
    }
  },
  "cells": [
    {
      "cell_type": "markdown",
      "metadata": {
        "id": "view-in-github",
        "colab_type": "text"
      },
      "source": [
        "<a href=\"https://colab.research.google.com/github/AlbericoJose/Coleta-e-Analise/blob/main/Coleta_dados_vacina%C3%A7%C3%A3o.ipynb\" target=\"_parent\"><img src=\"https://colab.research.google.com/assets/colab-badge.svg\" alt=\"Open In Colab\"/></a>"
      ]
    },
    {
      "cell_type": "markdown",
      "source": [
        "#Coleta de dados estruturados\n",
        "\n",
        "Os dados estruturados são provinientes de estruturas definidas, inflexivel, pensadas antes mesmo da própria criação dos dados. Exemplo de dados estruturados: Tabelas de banco de dados, planilhas eletronicas, arquivos de textos como txt e csv.\n",
        "\n",
        "A base de dados está disponível no seguinte link: https://www.kaggle.com/datasets/gpreda/covid-world-vaccination-progress\n",
        "\n",
        "\n",
        "o dataset utilizado nesse estudo foi coletado no dia 26/02/2021 às 17:50"
      ],
      "metadata": {
        "id": "luGGuArA-Tmw"
      }
    },
    {
      "cell_type": "code",
      "execution_count": null,
      "metadata": {
        "id": "S7qO-W9m-QQK"
      },
      "outputs": [],
      "source": [
        "#importar as bibliotecas\n",
        "import pandas as pd\n",
        "import os"
      ]
    },
    {
      "cell_type": "markdown",
      "source": [
        "# Importando os dados\n",
        "\n",
        "O primeiro passo é encontrar o local aonde o arquivo a ser trabalhao vai estar amazenado. Após isso, vamos abri-lo e em seguida vamos adiciona-lo dentro de um dataframe do pandas"
      ],
      "metadata": {
        "id": "OmVD_EVTDmjw"
      }
    },
    {
      "cell_type": "code",
      "source": [
        "nome_arquivo = 'country_vaccinations.csv'\n",
        "#Usando no jupytet notebook\n",
        "#Dir = \"C:\\\\Projetos\\\\coleta_dados\\\\dataset\"\n",
        "#CaminhoDados = os.path.join(Dir,nome_arquivo)\n",
        "\n",
        "# lendo dados\n",
        "dados = pd.read_csv(nome_arquivo, sep =',' , encoding='latin-1')\n"
      ],
      "metadata": {
        "id": "qBAbmmkaEBa3"
      },
      "execution_count": null,
      "outputs": []
    },
    {
      "cell_type": "code",
      "source": [
        "# validamos o caminho\n",
        "#CaminhoDados"
      ],
      "metadata": {
        "id": "NHqRtwP6KJ7-"
      },
      "execution_count": null,
      "outputs": []
    },
    {
      "cell_type": "code",
      "source": [
        "dados # apresenta os dados"
      ],
      "metadata": {
        "id": "wop0UuzmH7z4"
      },
      "execution_count": null,
      "outputs": []
    },
    {
      "cell_type": "markdown",
      "source": [
        "Criando o dataframe no pandas e ler o arquivo na pasta de origem. Para abrir o arquivo vamos utilizar o comando read_csv e utilizaro separador ',' de acordo com o dado fornecido. Além disso, temos que utilizar o encoding informando a codificação do arquivo."
      ],
      "metadata": {
        "id": "nApOWyYkH5TR"
      }
    },
    {
      "cell_type": "code",
      "source": [
        "#Usando no jupytet notebook\n",
        "#dataframe = pd.read_csv(dados, sep =',' , encoding='latin-1')\n",
        "dataframe = dados;"
      ],
      "metadata": {
        "id": "zGkmsCnuI6hj"
      },
      "execution_count": null,
      "outputs": []
    },
    {
      "cell_type": "code",
      "source": [
        "# exibe os 5 primeiros registros\n",
        "dataframe.head(5)"
      ],
      "metadata": {
        "colab": {
          "base_uri": "https://localhost:8080/",
          "height": 444
        },
        "id": "3d7gQINvJfb4",
        "outputId": "89a7d522-f43d-4bf8-eb3a-b07bdf7c396e"
      },
      "execution_count": null,
      "outputs": [
        {
          "output_type": "execute_result",
          "data": {
            "text/plain": [
              "       country iso_code        date  total_vaccinations  people_vaccinated  \\\n",
              "0  Afghanistan      AFG  2021-02-22                 0.0                0.0   \n",
              "1  Afghanistan      AFG  2021-02-23                 NaN                NaN   \n",
              "2  Afghanistan      AFG  2021-02-24                 NaN                NaN   \n",
              "3  Afghanistan      AFG  2021-02-25                 NaN                NaN   \n",
              "4  Afghanistan      AFG  2021-02-26                 NaN                NaN   \n",
              "\n",
              "   people_fully_vaccinated  daily_vaccinations_raw  daily_vaccinations  \\\n",
              "0                      NaN                     NaN                 NaN   \n",
              "1                      NaN                     NaN              1367.0   \n",
              "2                      NaN                     NaN              1367.0   \n",
              "3                      NaN                     NaN              1367.0   \n",
              "4                      NaN                     NaN              1367.0   \n",
              "\n",
              "   total_vaccinations_per_hundred  people_vaccinated_per_hundred  \\\n",
              "0                             0.0                            0.0   \n",
              "1                             NaN                            NaN   \n",
              "2                             NaN                            NaN   \n",
              "3                             NaN                            NaN   \n",
              "4                             NaN                            NaN   \n",
              "\n",
              "   people_fully_vaccinated_per_hundred  daily_vaccinations_per_million  \\\n",
              "0                                  NaN                             NaN   \n",
              "1                                  NaN                            34.0   \n",
              "2                                  NaN                            34.0   \n",
              "3                                  NaN                            34.0   \n",
              "4                                  NaN                            34.0   \n",
              "\n",
              "                                            vaccines  \\\n",
              "0  Johnson&Johnson, Oxford/AstraZeneca, Pfizer/Bi...   \n",
              "1  Johnson&Johnson, Oxford/AstraZeneca, Pfizer/Bi...   \n",
              "2  Johnson&Johnson, Oxford/AstraZeneca, Pfizer/Bi...   \n",
              "3  Johnson&Johnson, Oxford/AstraZeneca, Pfizer/Bi...   \n",
              "4  Johnson&Johnson, Oxford/AstraZeneca, Pfizer/Bi...   \n",
              "\n",
              "                 source_name            source_website  \n",
              "0  World Health Organization  https://covid19.who.int/  \n",
              "1  World Health Organization  https://covid19.who.int/  \n",
              "2  World Health Organization  https://covid19.who.int/  \n",
              "3  World Health Organization  https://covid19.who.int/  \n",
              "4  World Health Organization  https://covid19.who.int/  "
            ],
            "text/html": [
              "\n",
              "  <div id=\"df-b589e519-2ee8-4886-b11a-0325659da0e4\">\n",
              "    <div class=\"colab-df-container\">\n",
              "      <div>\n",
              "<style scoped>\n",
              "    .dataframe tbody tr th:only-of-type {\n",
              "        vertical-align: middle;\n",
              "    }\n",
              "\n",
              "    .dataframe tbody tr th {\n",
              "        vertical-align: top;\n",
              "    }\n",
              "\n",
              "    .dataframe thead th {\n",
              "        text-align: right;\n",
              "    }\n",
              "</style>\n",
              "<table border=\"1\" class=\"dataframe\">\n",
              "  <thead>\n",
              "    <tr style=\"text-align: right;\">\n",
              "      <th></th>\n",
              "      <th>country</th>\n",
              "      <th>iso_code</th>\n",
              "      <th>date</th>\n",
              "      <th>total_vaccinations</th>\n",
              "      <th>people_vaccinated</th>\n",
              "      <th>people_fully_vaccinated</th>\n",
              "      <th>daily_vaccinations_raw</th>\n",
              "      <th>daily_vaccinations</th>\n",
              "      <th>total_vaccinations_per_hundred</th>\n",
              "      <th>people_vaccinated_per_hundred</th>\n",
              "      <th>people_fully_vaccinated_per_hundred</th>\n",
              "      <th>daily_vaccinations_per_million</th>\n",
              "      <th>vaccines</th>\n",
              "      <th>source_name</th>\n",
              "      <th>source_website</th>\n",
              "    </tr>\n",
              "  </thead>\n",
              "  <tbody>\n",
              "    <tr>\n",
              "      <th>0</th>\n",
              "      <td>Afghanistan</td>\n",
              "      <td>AFG</td>\n",
              "      <td>2021-02-22</td>\n",
              "      <td>0.0</td>\n",
              "      <td>0.0</td>\n",
              "      <td>NaN</td>\n",
              "      <td>NaN</td>\n",
              "      <td>NaN</td>\n",
              "      <td>0.0</td>\n",
              "      <td>0.0</td>\n",
              "      <td>NaN</td>\n",
              "      <td>NaN</td>\n",
              "      <td>Johnson&amp;Johnson, Oxford/AstraZeneca, Pfizer/Bi...</td>\n",
              "      <td>World Health Organization</td>\n",
              "      <td>https://covid19.who.int/</td>\n",
              "    </tr>\n",
              "    <tr>\n",
              "      <th>1</th>\n",
              "      <td>Afghanistan</td>\n",
              "      <td>AFG</td>\n",
              "      <td>2021-02-23</td>\n",
              "      <td>NaN</td>\n",
              "      <td>NaN</td>\n",
              "      <td>NaN</td>\n",
              "      <td>NaN</td>\n",
              "      <td>1367.0</td>\n",
              "      <td>NaN</td>\n",
              "      <td>NaN</td>\n",
              "      <td>NaN</td>\n",
              "      <td>34.0</td>\n",
              "      <td>Johnson&amp;Johnson, Oxford/AstraZeneca, Pfizer/Bi...</td>\n",
              "      <td>World Health Organization</td>\n",
              "      <td>https://covid19.who.int/</td>\n",
              "    </tr>\n",
              "    <tr>\n",
              "      <th>2</th>\n",
              "      <td>Afghanistan</td>\n",
              "      <td>AFG</td>\n",
              "      <td>2021-02-24</td>\n",
              "      <td>NaN</td>\n",
              "      <td>NaN</td>\n",
              "      <td>NaN</td>\n",
              "      <td>NaN</td>\n",
              "      <td>1367.0</td>\n",
              "      <td>NaN</td>\n",
              "      <td>NaN</td>\n",
              "      <td>NaN</td>\n",
              "      <td>34.0</td>\n",
              "      <td>Johnson&amp;Johnson, Oxford/AstraZeneca, Pfizer/Bi...</td>\n",
              "      <td>World Health Organization</td>\n",
              "      <td>https://covid19.who.int/</td>\n",
              "    </tr>\n",
              "    <tr>\n",
              "      <th>3</th>\n",
              "      <td>Afghanistan</td>\n",
              "      <td>AFG</td>\n",
              "      <td>2021-02-25</td>\n",
              "      <td>NaN</td>\n",
              "      <td>NaN</td>\n",
              "      <td>NaN</td>\n",
              "      <td>NaN</td>\n",
              "      <td>1367.0</td>\n",
              "      <td>NaN</td>\n",
              "      <td>NaN</td>\n",
              "      <td>NaN</td>\n",
              "      <td>34.0</td>\n",
              "      <td>Johnson&amp;Johnson, Oxford/AstraZeneca, Pfizer/Bi...</td>\n",
              "      <td>World Health Organization</td>\n",
              "      <td>https://covid19.who.int/</td>\n",
              "    </tr>\n",
              "    <tr>\n",
              "      <th>4</th>\n",
              "      <td>Afghanistan</td>\n",
              "      <td>AFG</td>\n",
              "      <td>2021-02-26</td>\n",
              "      <td>NaN</td>\n",
              "      <td>NaN</td>\n",
              "      <td>NaN</td>\n",
              "      <td>NaN</td>\n",
              "      <td>1367.0</td>\n",
              "      <td>NaN</td>\n",
              "      <td>NaN</td>\n",
              "      <td>NaN</td>\n",
              "      <td>34.0</td>\n",
              "      <td>Johnson&amp;Johnson, Oxford/AstraZeneca, Pfizer/Bi...</td>\n",
              "      <td>World Health Organization</td>\n",
              "      <td>https://covid19.who.int/</td>\n",
              "    </tr>\n",
              "  </tbody>\n",
              "</table>\n",
              "</div>\n",
              "      <button class=\"colab-df-convert\" onclick=\"convertToInteractive('df-b589e519-2ee8-4886-b11a-0325659da0e4')\"\n",
              "              title=\"Convert this dataframe to an interactive table.\"\n",
              "              style=\"display:none;\">\n",
              "        \n",
              "  <svg xmlns=\"http://www.w3.org/2000/svg\" height=\"24px\"viewBox=\"0 0 24 24\"\n",
              "       width=\"24px\">\n",
              "    <path d=\"M0 0h24v24H0V0z\" fill=\"none\"/>\n",
              "    <path d=\"M18.56 5.44l.94 2.06.94-2.06 2.06-.94-2.06-.94-.94-2.06-.94 2.06-2.06.94zm-11 1L8.5 8.5l.94-2.06 2.06-.94-2.06-.94L8.5 2.5l-.94 2.06-2.06.94zm10 10l.94 2.06.94-2.06 2.06-.94-2.06-.94-.94-2.06-.94 2.06-2.06.94z\"/><path d=\"M17.41 7.96l-1.37-1.37c-.4-.4-.92-.59-1.43-.59-.52 0-1.04.2-1.43.59L10.3 9.45l-7.72 7.72c-.78.78-.78 2.05 0 2.83L4 21.41c.39.39.9.59 1.41.59.51 0 1.02-.2 1.41-.59l7.78-7.78 2.81-2.81c.8-.78.8-2.07 0-2.86zM5.41 20L4 18.59l7.72-7.72 1.47 1.35L5.41 20z\"/>\n",
              "  </svg>\n",
              "      </button>\n",
              "      \n",
              "  <style>\n",
              "    .colab-df-container {\n",
              "      display:flex;\n",
              "      flex-wrap:wrap;\n",
              "      gap: 12px;\n",
              "    }\n",
              "\n",
              "    .colab-df-convert {\n",
              "      background-color: #E8F0FE;\n",
              "      border: none;\n",
              "      border-radius: 50%;\n",
              "      cursor: pointer;\n",
              "      display: none;\n",
              "      fill: #1967D2;\n",
              "      height: 32px;\n",
              "      padding: 0 0 0 0;\n",
              "      width: 32px;\n",
              "    }\n",
              "\n",
              "    .colab-df-convert:hover {\n",
              "      background-color: #E2EBFA;\n",
              "      box-shadow: 0px 1px 2px rgba(60, 64, 67, 0.3), 0px 1px 3px 1px rgba(60, 64, 67, 0.15);\n",
              "      fill: #174EA6;\n",
              "    }\n",
              "\n",
              "    [theme=dark] .colab-df-convert {\n",
              "      background-color: #3B4455;\n",
              "      fill: #D2E3FC;\n",
              "    }\n",
              "\n",
              "    [theme=dark] .colab-df-convert:hover {\n",
              "      background-color: #434B5C;\n",
              "      box-shadow: 0px 1px 3px 1px rgba(0, 0, 0, 0.15);\n",
              "      filter: drop-shadow(0px 1px 2px rgba(0, 0, 0, 0.3));\n",
              "      fill: #FFFFFF;\n",
              "    }\n",
              "  </style>\n",
              "\n",
              "      <script>\n",
              "        const buttonEl =\n",
              "          document.querySelector('#df-b589e519-2ee8-4886-b11a-0325659da0e4 button.colab-df-convert');\n",
              "        buttonEl.style.display =\n",
              "          google.colab.kernel.accessAllowed ? 'block' : 'none';\n",
              "\n",
              "        async function convertToInteractive(key) {\n",
              "          const element = document.querySelector('#df-b589e519-2ee8-4886-b11a-0325659da0e4');\n",
              "          const dataTable =\n",
              "            await google.colab.kernel.invokeFunction('convertToInteractive',\n",
              "                                                     [key], {});\n",
              "          if (!dataTable) return;\n",
              "\n",
              "          const docLinkHtml = 'Like what you see? Visit the ' +\n",
              "            '<a target=\"_blank\" href=https://colab.research.google.com/notebooks/data_table.ipynb>data table notebook</a>'\n",
              "            + ' to learn more about interactive tables.';\n",
              "          element.innerHTML = '';\n",
              "          dataTable['output_type'] = 'display_data';\n",
              "          await google.colab.output.renderOutput(dataTable, element);\n",
              "          const docLink = document.createElement('div');\n",
              "          docLink.innerHTML = docLinkHtml;\n",
              "          element.appendChild(docLink);\n",
              "        }\n",
              "      </script>\n",
              "    </div>\n",
              "  </div>\n",
              "  "
            ]
          },
          "metadata": {},
          "execution_count": 9
        }
      ]
    },
    {
      "cell_type": "markdown",
      "source": [
        "#Analisando os dados\n",
        "\n",
        "O dataset utilizado é referente a estatistica do número de vacinados da COVID-19 em todos os paises do mundo.\n",
        "\n",
        "Para esse estudo vamos utilizar as variaveis: coutry = pais; date = data; total_vaccinations = nr do total de vacinados; daily_vaccinations = nr de vacinados por dia; vaccines = nome das vacinas utilizada no pais;\n",
        "\n",
        "Vamos responder as perguntas:\n",
        "\n",
        "\n",
        "1.   Qual os pais com maior nr de pessoas imunizadas?\n",
        "2.   Qual vacina é a mais utilizada no mundo? ** Existem diferentes tipos de vacinas disponivel no mundo.\n",
        "3. Qual pais possui o maior nr de vacinados por dia?\n",
        "4. Qual a média de vacinação diariamente por país? \n",
        "\n",
        "\n",
        "Após responder as perguntas vamos exportat as respostas obtidas."
      ],
      "metadata": {
        "id": "rjyNpvQ4Kd8c"
      }
    },
    {
      "cell_type": "code",
      "source": [
        "#verifica dados do Brasil p/ dia\n",
        "dataframe.query('country == \"Brazil\"').sort_values('date', ascending=False)[:2]"
      ],
      "metadata": {
        "colab": {
          "base_uri": "https://localhost:8080/",
          "height": 245
        },
        "id": "3b-cPe8cMXkd",
        "outputId": "4a94db89-03c0-4921-a1a2-5ff1a2ef37a9"
      },
      "execution_count": null,
      "outputs": [
        {
          "output_type": "execute_result",
          "data": {
            "text/plain": [
              "      country iso_code        date  total_vaccinations  people_vaccinated  \\\n",
              "11085  Brazil      BRA  2022-03-29         413559595.0        181078067.0   \n",
              "11084  Brazil      BRA  2022-03-28         412177025.0        180881628.0   \n",
              "\n",
              "       people_fully_vaccinated  daily_vaccinations_raw  daily_vaccinations  \\\n",
              "11085              160272858.0               1382570.0            656803.0   \n",
              "11084              160008924.0                628823.0            546999.0   \n",
              "\n",
              "       total_vaccinations_per_hundred  people_vaccinated_per_hundred  \\\n",
              "11085                          193.26                          84.62   \n",
              "11084                          192.61                          84.53   \n",
              "\n",
              "       people_fully_vaccinated_per_hundred  daily_vaccinations_per_million  \\\n",
              "11085                                74.90                          3069.0   \n",
              "11084                                74.77                          2556.0   \n",
              "\n",
              "                                                vaccines  \\\n",
              "11085  Johnson&Johnson, Oxford/AstraZeneca, Pfizer/Bi...   \n",
              "11084  Johnson&Johnson, Oxford/AstraZeneca, Pfizer/Bi...   \n",
              "\n",
              "                                           source_name  \\\n",
              "11085  State governments via coronavirusbra1.github.io   \n",
              "11084  State governments via coronavirusbra1.github.io   \n",
              "\n",
              "                          source_website  \n",
              "11085  https://coronavirusbra1.github.io  \n",
              "11084  https://coronavirusbra1.github.io  "
            ],
            "text/html": [
              "\n",
              "  <div id=\"df-2acd3685-bcfe-404d-b6c8-086889a07a21\">\n",
              "    <div class=\"colab-df-container\">\n",
              "      <div>\n",
              "<style scoped>\n",
              "    .dataframe tbody tr th:only-of-type {\n",
              "        vertical-align: middle;\n",
              "    }\n",
              "\n",
              "    .dataframe tbody tr th {\n",
              "        vertical-align: top;\n",
              "    }\n",
              "\n",
              "    .dataframe thead th {\n",
              "        text-align: right;\n",
              "    }\n",
              "</style>\n",
              "<table border=\"1\" class=\"dataframe\">\n",
              "  <thead>\n",
              "    <tr style=\"text-align: right;\">\n",
              "      <th></th>\n",
              "      <th>country</th>\n",
              "      <th>iso_code</th>\n",
              "      <th>date</th>\n",
              "      <th>total_vaccinations</th>\n",
              "      <th>people_vaccinated</th>\n",
              "      <th>people_fully_vaccinated</th>\n",
              "      <th>daily_vaccinations_raw</th>\n",
              "      <th>daily_vaccinations</th>\n",
              "      <th>total_vaccinations_per_hundred</th>\n",
              "      <th>people_vaccinated_per_hundred</th>\n",
              "      <th>people_fully_vaccinated_per_hundred</th>\n",
              "      <th>daily_vaccinations_per_million</th>\n",
              "      <th>vaccines</th>\n",
              "      <th>source_name</th>\n",
              "      <th>source_website</th>\n",
              "    </tr>\n",
              "  </thead>\n",
              "  <tbody>\n",
              "    <tr>\n",
              "      <th>11085</th>\n",
              "      <td>Brazil</td>\n",
              "      <td>BRA</td>\n",
              "      <td>2022-03-29</td>\n",
              "      <td>413559595.0</td>\n",
              "      <td>181078067.0</td>\n",
              "      <td>160272858.0</td>\n",
              "      <td>1382570.0</td>\n",
              "      <td>656803.0</td>\n",
              "      <td>193.26</td>\n",
              "      <td>84.62</td>\n",
              "      <td>74.90</td>\n",
              "      <td>3069.0</td>\n",
              "      <td>Johnson&amp;Johnson, Oxford/AstraZeneca, Pfizer/Bi...</td>\n",
              "      <td>State governments via coronavirusbra1.github.io</td>\n",
              "      <td>https://coronavirusbra1.github.io</td>\n",
              "    </tr>\n",
              "    <tr>\n",
              "      <th>11084</th>\n",
              "      <td>Brazil</td>\n",
              "      <td>BRA</td>\n",
              "      <td>2022-03-28</td>\n",
              "      <td>412177025.0</td>\n",
              "      <td>180881628.0</td>\n",
              "      <td>160008924.0</td>\n",
              "      <td>628823.0</td>\n",
              "      <td>546999.0</td>\n",
              "      <td>192.61</td>\n",
              "      <td>84.53</td>\n",
              "      <td>74.77</td>\n",
              "      <td>2556.0</td>\n",
              "      <td>Johnson&amp;Johnson, Oxford/AstraZeneca, Pfizer/Bi...</td>\n",
              "      <td>State governments via coronavirusbra1.github.io</td>\n",
              "      <td>https://coronavirusbra1.github.io</td>\n",
              "    </tr>\n",
              "  </tbody>\n",
              "</table>\n",
              "</div>\n",
              "      <button class=\"colab-df-convert\" onclick=\"convertToInteractive('df-2acd3685-bcfe-404d-b6c8-086889a07a21')\"\n",
              "              title=\"Convert this dataframe to an interactive table.\"\n",
              "              style=\"display:none;\">\n",
              "        \n",
              "  <svg xmlns=\"http://www.w3.org/2000/svg\" height=\"24px\"viewBox=\"0 0 24 24\"\n",
              "       width=\"24px\">\n",
              "    <path d=\"M0 0h24v24H0V0z\" fill=\"none\"/>\n",
              "    <path d=\"M18.56 5.44l.94 2.06.94-2.06 2.06-.94-2.06-.94-.94-2.06-.94 2.06-2.06.94zm-11 1L8.5 8.5l.94-2.06 2.06-.94-2.06-.94L8.5 2.5l-.94 2.06-2.06.94zm10 10l.94 2.06.94-2.06 2.06-.94-2.06-.94-.94-2.06-.94 2.06-2.06.94z\"/><path d=\"M17.41 7.96l-1.37-1.37c-.4-.4-.92-.59-1.43-.59-.52 0-1.04.2-1.43.59L10.3 9.45l-7.72 7.72c-.78.78-.78 2.05 0 2.83L4 21.41c.39.39.9.59 1.41.59.51 0 1.02-.2 1.41-.59l7.78-7.78 2.81-2.81c.8-.78.8-2.07 0-2.86zM5.41 20L4 18.59l7.72-7.72 1.47 1.35L5.41 20z\"/>\n",
              "  </svg>\n",
              "      </button>\n",
              "      \n",
              "  <style>\n",
              "    .colab-df-container {\n",
              "      display:flex;\n",
              "      flex-wrap:wrap;\n",
              "      gap: 12px;\n",
              "    }\n",
              "\n",
              "    .colab-df-convert {\n",
              "      background-color: #E8F0FE;\n",
              "      border: none;\n",
              "      border-radius: 50%;\n",
              "      cursor: pointer;\n",
              "      display: none;\n",
              "      fill: #1967D2;\n",
              "      height: 32px;\n",
              "      padding: 0 0 0 0;\n",
              "      width: 32px;\n",
              "    }\n",
              "\n",
              "    .colab-df-convert:hover {\n",
              "      background-color: #E2EBFA;\n",
              "      box-shadow: 0px 1px 2px rgba(60, 64, 67, 0.3), 0px 1px 3px 1px rgba(60, 64, 67, 0.15);\n",
              "      fill: #174EA6;\n",
              "    }\n",
              "\n",
              "    [theme=dark] .colab-df-convert {\n",
              "      background-color: #3B4455;\n",
              "      fill: #D2E3FC;\n",
              "    }\n",
              "\n",
              "    [theme=dark] .colab-df-convert:hover {\n",
              "      background-color: #434B5C;\n",
              "      box-shadow: 0px 1px 3px 1px rgba(0, 0, 0, 0.15);\n",
              "      filter: drop-shadow(0px 1px 2px rgba(0, 0, 0, 0.3));\n",
              "      fill: #FFFFFF;\n",
              "    }\n",
              "  </style>\n",
              "\n",
              "      <script>\n",
              "        const buttonEl =\n",
              "          document.querySelector('#df-2acd3685-bcfe-404d-b6c8-086889a07a21 button.colab-df-convert');\n",
              "        buttonEl.style.display =\n",
              "          google.colab.kernel.accessAllowed ? 'block' : 'none';\n",
              "\n",
              "        async function convertToInteractive(key) {\n",
              "          const element = document.querySelector('#df-2acd3685-bcfe-404d-b6c8-086889a07a21');\n",
              "          const dataTable =\n",
              "            await google.colab.kernel.invokeFunction('convertToInteractive',\n",
              "                                                     [key], {});\n",
              "          if (!dataTable) return;\n",
              "\n",
              "          const docLinkHtml = 'Like what you see? Visit the ' +\n",
              "            '<a target=\"_blank\" href=https://colab.research.google.com/notebooks/data_table.ipynb>data table notebook</a>'\n",
              "            + ' to learn more about interactive tables.';\n",
              "          element.innerHTML = '';\n",
              "          dataTable['output_type'] = 'display_data';\n",
              "          await google.colab.output.renderOutput(dataTable, element);\n",
              "          const docLink = document.createElement('div');\n",
              "          docLink.innerHTML = docLinkHtml;\n",
              "          element.appendChild(docLink);\n",
              "        }\n",
              "      </script>\n",
              "    </div>\n",
              "  </div>\n",
              "  "
            ]
          },
          "metadata": {},
          "execution_count": 13
        }
      ]
    },
    {
      "cell_type": "code",
      "source": [
        "# verifica o nr de paises distintos na base\n",
        "dataframe['country'].nunique()"
      ],
      "metadata": {
        "colab": {
          "base_uri": "https://localhost:8080/"
        },
        "id": "yoDbY3n1Ne-_",
        "outputId": "7e74f246-2096-4fd8-c13d-b49d8d8d26d1"
      },
      "execution_count": null,
      "outputs": [
        {
          "output_type": "execute_result",
          "data": {
            "text/plain": [
              "223"
            ]
          },
          "metadata": {},
          "execution_count": 14
        }
      ]
    },
    {
      "cell_type": "markdown",
      "source": [
        "**Observem que temos 223 registros de paises no nosso datatset**\n",
        "\n",
        "#1.   Qual os pais com maior nr de pessoas imunizadas?\n",
        "\n",
        "Para que a análise seja realizada de forma correta é necessário analisar profundamente os dados. Nessa etapa, precisamos fazer vários testes afim de conhecer melhor os dados. Perceba que o dataset traz informações por data de coleta. Dessa forma, temos que filtrar p ultimo registr baseado na data.\n",
        "\n",
        "Será que essa análise é correta?\n"
      ],
      "metadata": {
        "id": "SYAiHkpjNuhu"
      }
    },
    {
      "cell_type": "code",
      "source": [
        "# identificando a data mais recente da coleta\n",
        "ultima_data = dataframe['date'].max()\n",
        "ultima_data"
      ],
      "metadata": {
        "colab": {
          "base_uri": "https://localhost:8080/",
          "height": 36
        },
        "id": "KlEayKMQOqRJ",
        "outputId": "59d02d65-904b-488d-b14b-a56862e80c44"
      },
      "execution_count": null,
      "outputs": [
        {
          "output_type": "execute_result",
          "data": {
            "text/plain": [
              "'2022-03-29'"
            ],
            "application/vnd.google.colaboratory.intrinsic+json": {
              "type": "string"
            }
          },
          "metadata": {},
          "execution_count": 16
        }
      ]
    },
    {
      "cell_type": "code",
      "source": [
        "# filtrando a ultima data\n",
        "ultima_data = dataframe[dataframe.date == ultima_data]"
      ],
      "metadata": {
        "id": "wFSYs0-pP93u"
      },
      "execution_count": null,
      "outputs": []
    },
    {
      "cell_type": "code",
      "source": [
        "#O comando shape mostra a quantidade de linhas e colunas detro de um dataset\n",
        "ultima_data.shape"
      ],
      "metadata": {
        "colab": {
          "base_uri": "https://localhost:8080/"
        },
        "id": "ZsKon8HmQQGY",
        "outputId": "c5bba286-306f-476e-e30f-8be296bf146b"
      },
      "execution_count": null,
      "outputs": [
        {
          "output_type": "execute_result",
          "data": {
            "text/plain": [
              "(54, 15)"
            ]
          },
          "metadata": {},
          "execution_count": 18
        }
      ]
    },
    {
      "cell_type": "markdown",
      "source": [
        "#Atenção!\n",
        "\n",
        "Perceba que o dataset filtrado pela ultima data retornou (54,15) ou seja 54 linhas e 15 colunas. Isso não esta certo! Pois verificamos que temos X oaises no dataset original.\n",
        "\n",
        "Dessa forma, ao filtrar pela última data estamos excluindo registros de outros paises que não foram ainda computados na última coleta.\n",
        "\n",
        "para resolver esse problema, temos que selecionar o último registro de data de cada pais. Assim não vamos deixar nenhum país de fora.\n",
        "\n",
        "Vamos fazer um agrupamento do pais e selecionar a ultima data de atualização que foi realizada."
      ],
      "metadata": {
        "id": "G01YdeIpQdUu"
      }
    },
    {
      "cell_type": "code",
      "source": [
        "dataframe.groupby('country')['date'].max().sort_values(ascending = False)"
      ],
      "metadata": {
        "colab": {
          "base_uri": "https://localhost:8080/"
        },
        "id": "iCP9d_v7R9qg",
        "outputId": "0dc3b0f4-d9f2-478c-8fbe-7d56cc4c91d1"
      },
      "execution_count": null,
      "outputs": [
        {
          "output_type": "execute_result",
          "data": {
            "text/plain": [
              "country\n",
              "Lebanon                            2022-03-29\n",
              "Lithuania                          2022-03-29\n",
              "Kosovo                             2022-03-29\n",
              "Kazakhstan                         2022-03-29\n",
              "Japan                              2022-03-29\n",
              "                                      ...    \n",
              "Pitcairn                           2021-09-07\n",
              "Turkmenistan                       2021-09-05\n",
              "Bonaire Sint Eustatius and Saba    2021-09-01\n",
              "Saint Helena                       2021-05-05\n",
              "Falkland Islands                   2021-04-14\n",
              "Name: date, Length: 223, dtype: object"
            ]
          },
          "metadata": {},
          "execution_count": 19
        }
      ]
    },
    {
      "cell_type": "markdown",
      "source": [
        "Vimos que existem paises que não possuem a atualização da ultima data da coelta. Dessa forma, temos que procurar um aoutra maneira para obter esses dados. A variável total_vaccinations contém o total de vacinações naquele pais, ou seja, podemos utilizar como parametro para buscar a ultima data de coleta. Desta forma, vamos agrupar por país e pegar o valor máximo obtido nessa variável."
      ],
      "metadata": {
        "id": "q09BVPDZZHs6"
      }
    },
    {
      "cell_type": "code",
      "source": [
        "dataframe.groupby('country')['total_vaccinations'].max().sort_values(ascending = False)"
      ],
      "metadata": {
        "colab": {
          "base_uri": "https://localhost:8080/"
        },
        "id": "XHaRUa9paGVz",
        "outputId": "31d394b4-2888-49d9-ba92-dbbba396a6e6"
      },
      "execution_count": null,
      "outputs": [
        {
          "output_type": "execute_result",
          "data": {
            "text/plain": [
              "country\n",
              "China               3.263129e+09\n",
              "India               1.834501e+09\n",
              "United States       5.601818e+08\n",
              "Brazil              4.135596e+08\n",
              "Indonesia           3.771089e+08\n",
              "                        ...     \n",
              "Falkland Islands    4.407000e+03\n",
              "Montserrat          4.211000e+03\n",
              "Niue                4.161000e+03\n",
              "Tokelau             1.936000e+03\n",
              "Pitcairn            9.400000e+01\n",
              "Name: total_vaccinations, Length: 223, dtype: float64"
            ]
          },
          "metadata": {},
          "execution_count": 20
        }
      ]
    },
    {
      "cell_type": "markdown",
      "source": [
        "Vamos então listar os Top 10 paises"
      ],
      "metadata": {
        "id": "3wd57yBOaVa4"
      }
    },
    {
      "cell_type": "code",
      "source": [
        "nr_imunizados_pais =  dataframe.groupby('country')['total_vaccinations'].max().sort_values(ascending = False)\n",
        "nr_imunizados_pais"
      ],
      "metadata": {
        "colab": {
          "base_uri": "https://localhost:8080/"
        },
        "id": "bcsgT4Y-aiKk",
        "outputId": "0f844a5a-58f8-4a7d-e5e5-c643cfed7036"
      },
      "execution_count": null,
      "outputs": [
        {
          "output_type": "execute_result",
          "data": {
            "text/plain": [
              "country\n",
              "China               3.263129e+09\n",
              "India               1.834501e+09\n",
              "United States       5.601818e+08\n",
              "Brazil              4.135596e+08\n",
              "Indonesia           3.771089e+08\n",
              "                        ...     \n",
              "Falkland Islands    4.407000e+03\n",
              "Montserrat          4.211000e+03\n",
              "Niue                4.161000e+03\n",
              "Tokelau             1.936000e+03\n",
              "Pitcairn            9.400000e+01\n",
              "Name: total_vaccinations, Length: 223, dtype: float64"
            ]
          },
          "metadata": {},
          "execution_count": 27
        }
      ]
    },
    {
      "cell_type": "code",
      "source": [
        "type(nr_imunizados_pais)"
      ],
      "metadata": {
        "colab": {
          "base_uri": "https://localhost:8080/"
        },
        "id": "YS6R4RFTaxzG",
        "outputId": "9e89b356-fc8d-4348-a15e-3a3a1f984194"
      },
      "execution_count": null,
      "outputs": [
        {
          "output_type": "execute_result",
          "data": {
            "text/plain": [
              "pandas.core.series.Series"
            ]
          },
          "metadata": {},
          "execution_count": 28
        }
      ]
    },
    {
      "cell_type": "markdown",
      "source": [
        "Percebam que efetuar uma operação, o seu resultado se transforma em uma série pandas.\n",
        "Uma série pandas se caracterizada por um array unidimencional capaz de armazenar qualquer tipo de dados com rótulos ou índice de eixo. Um exmplo de  um objeto séries e uma coluna de um Dataframe.\n",
        "\n",
        "Para transformar novamente em um dataframe temos que usar o comando to_frame() e resetar o index."
      ],
      "metadata": {
        "id": "j8UKcThPa2x8"
      }
    },
    {
      "cell_type": "code",
      "source": [
        "nr_imunizados_pais =  nr_imunizados_pais.to_frame().reset_index()\n",
        "nr_imunizados_pais\n"
      ],
      "metadata": {
        "colab": {
          "base_uri": "https://localhost:8080/",
          "height": 423
        },
        "id": "lleC9_6dbxWb",
        "outputId": "a5f00c5b-bd8f-4b41-9c4f-b0108dd31e17"
      },
      "execution_count": null,
      "outputs": [
        {
          "output_type": "execute_result",
          "data": {
            "text/plain": [
              "              country  total_vaccinations\n",
              "0               China        3.263129e+09\n",
              "1               India        1.834501e+09\n",
              "2       United States        5.601818e+08\n",
              "3              Brazil        4.135596e+08\n",
              "4           Indonesia        3.771089e+08\n",
              "..                ...                 ...\n",
              "218  Falkland Islands        4.407000e+03\n",
              "219        Montserrat        4.211000e+03\n",
              "220              Niue        4.161000e+03\n",
              "221           Tokelau        1.936000e+03\n",
              "222          Pitcairn        9.400000e+01\n",
              "\n",
              "[223 rows x 2 columns]"
            ],
            "text/html": [
              "\n",
              "  <div id=\"df-62bcd783-ef02-4048-a86a-3001723bae44\">\n",
              "    <div class=\"colab-df-container\">\n",
              "      <div>\n",
              "<style scoped>\n",
              "    .dataframe tbody tr th:only-of-type {\n",
              "        vertical-align: middle;\n",
              "    }\n",
              "\n",
              "    .dataframe tbody tr th {\n",
              "        vertical-align: top;\n",
              "    }\n",
              "\n",
              "    .dataframe thead th {\n",
              "        text-align: right;\n",
              "    }\n",
              "</style>\n",
              "<table border=\"1\" class=\"dataframe\">\n",
              "  <thead>\n",
              "    <tr style=\"text-align: right;\">\n",
              "      <th></th>\n",
              "      <th>country</th>\n",
              "      <th>total_vaccinations</th>\n",
              "    </tr>\n",
              "  </thead>\n",
              "  <tbody>\n",
              "    <tr>\n",
              "      <th>0</th>\n",
              "      <td>China</td>\n",
              "      <td>3.263129e+09</td>\n",
              "    </tr>\n",
              "    <tr>\n",
              "      <th>1</th>\n",
              "      <td>India</td>\n",
              "      <td>1.834501e+09</td>\n",
              "    </tr>\n",
              "    <tr>\n",
              "      <th>2</th>\n",
              "      <td>United States</td>\n",
              "      <td>5.601818e+08</td>\n",
              "    </tr>\n",
              "    <tr>\n",
              "      <th>3</th>\n",
              "      <td>Brazil</td>\n",
              "      <td>4.135596e+08</td>\n",
              "    </tr>\n",
              "    <tr>\n",
              "      <th>4</th>\n",
              "      <td>Indonesia</td>\n",
              "      <td>3.771089e+08</td>\n",
              "    </tr>\n",
              "    <tr>\n",
              "      <th>...</th>\n",
              "      <td>...</td>\n",
              "      <td>...</td>\n",
              "    </tr>\n",
              "    <tr>\n",
              "      <th>218</th>\n",
              "      <td>Falkland Islands</td>\n",
              "      <td>4.407000e+03</td>\n",
              "    </tr>\n",
              "    <tr>\n",
              "      <th>219</th>\n",
              "      <td>Montserrat</td>\n",
              "      <td>4.211000e+03</td>\n",
              "    </tr>\n",
              "    <tr>\n",
              "      <th>220</th>\n",
              "      <td>Niue</td>\n",
              "      <td>4.161000e+03</td>\n",
              "    </tr>\n",
              "    <tr>\n",
              "      <th>221</th>\n",
              "      <td>Tokelau</td>\n",
              "      <td>1.936000e+03</td>\n",
              "    </tr>\n",
              "    <tr>\n",
              "      <th>222</th>\n",
              "      <td>Pitcairn</td>\n",
              "      <td>9.400000e+01</td>\n",
              "    </tr>\n",
              "  </tbody>\n",
              "</table>\n",
              "<p>223 rows × 2 columns</p>\n",
              "</div>\n",
              "      <button class=\"colab-df-convert\" onclick=\"convertToInteractive('df-62bcd783-ef02-4048-a86a-3001723bae44')\"\n",
              "              title=\"Convert this dataframe to an interactive table.\"\n",
              "              style=\"display:none;\">\n",
              "        \n",
              "  <svg xmlns=\"http://www.w3.org/2000/svg\" height=\"24px\"viewBox=\"0 0 24 24\"\n",
              "       width=\"24px\">\n",
              "    <path d=\"M0 0h24v24H0V0z\" fill=\"none\"/>\n",
              "    <path d=\"M18.56 5.44l.94 2.06.94-2.06 2.06-.94-2.06-.94-.94-2.06-.94 2.06-2.06.94zm-11 1L8.5 8.5l.94-2.06 2.06-.94-2.06-.94L8.5 2.5l-.94 2.06-2.06.94zm10 10l.94 2.06.94-2.06 2.06-.94-2.06-.94-.94-2.06-.94 2.06-2.06.94z\"/><path d=\"M17.41 7.96l-1.37-1.37c-.4-.4-.92-.59-1.43-.59-.52 0-1.04.2-1.43.59L10.3 9.45l-7.72 7.72c-.78.78-.78 2.05 0 2.83L4 21.41c.39.39.9.59 1.41.59.51 0 1.02-.2 1.41-.59l7.78-7.78 2.81-2.81c.8-.78.8-2.07 0-2.86zM5.41 20L4 18.59l7.72-7.72 1.47 1.35L5.41 20z\"/>\n",
              "  </svg>\n",
              "      </button>\n",
              "      \n",
              "  <style>\n",
              "    .colab-df-container {\n",
              "      display:flex;\n",
              "      flex-wrap:wrap;\n",
              "      gap: 12px;\n",
              "    }\n",
              "\n",
              "    .colab-df-convert {\n",
              "      background-color: #E8F0FE;\n",
              "      border: none;\n",
              "      border-radius: 50%;\n",
              "      cursor: pointer;\n",
              "      display: none;\n",
              "      fill: #1967D2;\n",
              "      height: 32px;\n",
              "      padding: 0 0 0 0;\n",
              "      width: 32px;\n",
              "    }\n",
              "\n",
              "    .colab-df-convert:hover {\n",
              "      background-color: #E2EBFA;\n",
              "      box-shadow: 0px 1px 2px rgba(60, 64, 67, 0.3), 0px 1px 3px 1px rgba(60, 64, 67, 0.15);\n",
              "      fill: #174EA6;\n",
              "    }\n",
              "\n",
              "    [theme=dark] .colab-df-convert {\n",
              "      background-color: #3B4455;\n",
              "      fill: #D2E3FC;\n",
              "    }\n",
              "\n",
              "    [theme=dark] .colab-df-convert:hover {\n",
              "      background-color: #434B5C;\n",
              "      box-shadow: 0px 1px 3px 1px rgba(0, 0, 0, 0.15);\n",
              "      filter: drop-shadow(0px 1px 2px rgba(0, 0, 0, 0.3));\n",
              "      fill: #FFFFFF;\n",
              "    }\n",
              "  </style>\n",
              "\n",
              "      <script>\n",
              "        const buttonEl =\n",
              "          document.querySelector('#df-62bcd783-ef02-4048-a86a-3001723bae44 button.colab-df-convert');\n",
              "        buttonEl.style.display =\n",
              "          google.colab.kernel.accessAllowed ? 'block' : 'none';\n",
              "\n",
              "        async function convertToInteractive(key) {\n",
              "          const element = document.querySelector('#df-62bcd783-ef02-4048-a86a-3001723bae44');\n",
              "          const dataTable =\n",
              "            await google.colab.kernel.invokeFunction('convertToInteractive',\n",
              "                                                     [key], {});\n",
              "          if (!dataTable) return;\n",
              "\n",
              "          const docLinkHtml = 'Like what you see? Visit the ' +\n",
              "            '<a target=\"_blank\" href=https://colab.research.google.com/notebooks/data_table.ipynb>data table notebook</a>'\n",
              "            + ' to learn more about interactive tables.';\n",
              "          element.innerHTML = '';\n",
              "          dataTable['output_type'] = 'display_data';\n",
              "          await google.colab.output.renderOutput(dataTable, element);\n",
              "          const docLink = document.createElement('div');\n",
              "          docLink.innerHTML = docLinkHtml;\n",
              "          element.appendChild(docLink);\n",
              "        }\n",
              "      </script>\n",
              "    </div>\n",
              "  </div>\n",
              "  "
            ]
          },
          "metadata": {},
          "execution_count": 29
        }
      ]
    },
    {
      "cell_type": "markdown",
      "source": [
        "Agora temos a realação do nr total de imunizados por país.\n",
        "\n",
        "Vamos utilizar o metodo sort_values na variável total_vaccinations para ordenar e o parâmetri ascending como False para ordenar, do maior para o menor. Alem de selecionar os 10 primeiros países"
      ],
      "metadata": {
        "id": "xMBopfJ0cJCZ"
      }
    },
    {
      "cell_type": "code",
      "source": [
        "nr_imunizados_pais.sort_values('total_vaccinations', ascending=False).head(10)"
      ],
      "metadata": {
        "colab": {
          "base_uri": "https://localhost:8080/",
          "height": 363
        },
        "id": "ViDdl535cmqW",
        "outputId": "1b2bdc38-cbc2-4134-a99d-2f765f976007"
      },
      "execution_count": null,
      "outputs": [
        {
          "output_type": "execute_result",
          "data": {
            "text/plain": [
              "         country  total_vaccinations\n",
              "0          China        3.263129e+09\n",
              "1          India        1.834501e+09\n",
              "2  United States        5.601818e+08\n",
              "3         Brazil        4.135596e+08\n",
              "4      Indonesia        3.771089e+08\n",
              "5          Japan        2.543456e+08\n",
              "6     Bangladesh        2.436427e+08\n",
              "7       Pakistan        2.193686e+08\n",
              "8        Vietnam        2.031444e+08\n",
              "9         Mexico        1.919079e+08"
            ],
            "text/html": [
              "\n",
              "  <div id=\"df-000d199e-f720-494d-9c17-620d6aaf8a8d\">\n",
              "    <div class=\"colab-df-container\">\n",
              "      <div>\n",
              "<style scoped>\n",
              "    .dataframe tbody tr th:only-of-type {\n",
              "        vertical-align: middle;\n",
              "    }\n",
              "\n",
              "    .dataframe tbody tr th {\n",
              "        vertical-align: top;\n",
              "    }\n",
              "\n",
              "    .dataframe thead th {\n",
              "        text-align: right;\n",
              "    }\n",
              "</style>\n",
              "<table border=\"1\" class=\"dataframe\">\n",
              "  <thead>\n",
              "    <tr style=\"text-align: right;\">\n",
              "      <th></th>\n",
              "      <th>country</th>\n",
              "      <th>total_vaccinations</th>\n",
              "    </tr>\n",
              "  </thead>\n",
              "  <tbody>\n",
              "    <tr>\n",
              "      <th>0</th>\n",
              "      <td>China</td>\n",
              "      <td>3.263129e+09</td>\n",
              "    </tr>\n",
              "    <tr>\n",
              "      <th>1</th>\n",
              "      <td>India</td>\n",
              "      <td>1.834501e+09</td>\n",
              "    </tr>\n",
              "    <tr>\n",
              "      <th>2</th>\n",
              "      <td>United States</td>\n",
              "      <td>5.601818e+08</td>\n",
              "    </tr>\n",
              "    <tr>\n",
              "      <th>3</th>\n",
              "      <td>Brazil</td>\n",
              "      <td>4.135596e+08</td>\n",
              "    </tr>\n",
              "    <tr>\n",
              "      <th>4</th>\n",
              "      <td>Indonesia</td>\n",
              "      <td>3.771089e+08</td>\n",
              "    </tr>\n",
              "    <tr>\n",
              "      <th>5</th>\n",
              "      <td>Japan</td>\n",
              "      <td>2.543456e+08</td>\n",
              "    </tr>\n",
              "    <tr>\n",
              "      <th>6</th>\n",
              "      <td>Bangladesh</td>\n",
              "      <td>2.436427e+08</td>\n",
              "    </tr>\n",
              "    <tr>\n",
              "      <th>7</th>\n",
              "      <td>Pakistan</td>\n",
              "      <td>2.193686e+08</td>\n",
              "    </tr>\n",
              "    <tr>\n",
              "      <th>8</th>\n",
              "      <td>Vietnam</td>\n",
              "      <td>2.031444e+08</td>\n",
              "    </tr>\n",
              "    <tr>\n",
              "      <th>9</th>\n",
              "      <td>Mexico</td>\n",
              "      <td>1.919079e+08</td>\n",
              "    </tr>\n",
              "  </tbody>\n",
              "</table>\n",
              "</div>\n",
              "      <button class=\"colab-df-convert\" onclick=\"convertToInteractive('df-000d199e-f720-494d-9c17-620d6aaf8a8d')\"\n",
              "              title=\"Convert this dataframe to an interactive table.\"\n",
              "              style=\"display:none;\">\n",
              "        \n",
              "  <svg xmlns=\"http://www.w3.org/2000/svg\" height=\"24px\"viewBox=\"0 0 24 24\"\n",
              "       width=\"24px\">\n",
              "    <path d=\"M0 0h24v24H0V0z\" fill=\"none\"/>\n",
              "    <path d=\"M18.56 5.44l.94 2.06.94-2.06 2.06-.94-2.06-.94-.94-2.06-.94 2.06-2.06.94zm-11 1L8.5 8.5l.94-2.06 2.06-.94-2.06-.94L8.5 2.5l-.94 2.06-2.06.94zm10 10l.94 2.06.94-2.06 2.06-.94-2.06-.94-.94-2.06-.94 2.06-2.06.94z\"/><path d=\"M17.41 7.96l-1.37-1.37c-.4-.4-.92-.59-1.43-.59-.52 0-1.04.2-1.43.59L10.3 9.45l-7.72 7.72c-.78.78-.78 2.05 0 2.83L4 21.41c.39.39.9.59 1.41.59.51 0 1.02-.2 1.41-.59l7.78-7.78 2.81-2.81c.8-.78.8-2.07 0-2.86zM5.41 20L4 18.59l7.72-7.72 1.47 1.35L5.41 20z\"/>\n",
              "  </svg>\n",
              "      </button>\n",
              "      \n",
              "  <style>\n",
              "    .colab-df-container {\n",
              "      display:flex;\n",
              "      flex-wrap:wrap;\n",
              "      gap: 12px;\n",
              "    }\n",
              "\n",
              "    .colab-df-convert {\n",
              "      background-color: #E8F0FE;\n",
              "      border: none;\n",
              "      border-radius: 50%;\n",
              "      cursor: pointer;\n",
              "      display: none;\n",
              "      fill: #1967D2;\n",
              "      height: 32px;\n",
              "      padding: 0 0 0 0;\n",
              "      width: 32px;\n",
              "    }\n",
              "\n",
              "    .colab-df-convert:hover {\n",
              "      background-color: #E2EBFA;\n",
              "      box-shadow: 0px 1px 2px rgba(60, 64, 67, 0.3), 0px 1px 3px 1px rgba(60, 64, 67, 0.15);\n",
              "      fill: #174EA6;\n",
              "    }\n",
              "\n",
              "    [theme=dark] .colab-df-convert {\n",
              "      background-color: #3B4455;\n",
              "      fill: #D2E3FC;\n",
              "    }\n",
              "\n",
              "    [theme=dark] .colab-df-convert:hover {\n",
              "      background-color: #434B5C;\n",
              "      box-shadow: 0px 1px 3px 1px rgba(0, 0, 0, 0.15);\n",
              "      filter: drop-shadow(0px 1px 2px rgba(0, 0, 0, 0.3));\n",
              "      fill: #FFFFFF;\n",
              "    }\n",
              "  </style>\n",
              "\n",
              "      <script>\n",
              "        const buttonEl =\n",
              "          document.querySelector('#df-000d199e-f720-494d-9c17-620d6aaf8a8d button.colab-df-convert');\n",
              "        buttonEl.style.display =\n",
              "          google.colab.kernel.accessAllowed ? 'block' : 'none';\n",
              "\n",
              "        async function convertToInteractive(key) {\n",
              "          const element = document.querySelector('#df-000d199e-f720-494d-9c17-620d6aaf8a8d');\n",
              "          const dataTable =\n",
              "            await google.colab.kernel.invokeFunction('convertToInteractive',\n",
              "                                                     [key], {});\n",
              "          if (!dataTable) return;\n",
              "\n",
              "          const docLinkHtml = 'Like what you see? Visit the ' +\n",
              "            '<a target=\"_blank\" href=https://colab.research.google.com/notebooks/data_table.ipynb>data table notebook</a>'\n",
              "            + ' to learn more about interactive tables.';\n",
              "          element.innerHTML = '';\n",
              "          dataTable['output_type'] = 'display_data';\n",
              "          await google.colab.output.renderOutput(dataTable, element);\n",
              "          const docLink = document.createElement('div');\n",
              "          docLink.innerHTML = docLinkHtml;\n",
              "          element.appendChild(docLink);\n",
              "        }\n",
              "      </script>\n",
              "    </div>\n",
              "  </div>\n",
              "  "
            ]
          },
          "metadata": {},
          "execution_count": 30
        }
      ]
    },
    {
      "cell_type": "markdown",
      "source": [
        "#2.Qual vacina é a mais utilizada no mundo? \n",
        "Para descobrimos, devemos criar um dataframe contendo as vacinas utilizads por país, com isso teremos uma relação com todos os paises e suas vacinas em uma determinada data."
      ],
      "metadata": {
        "id": "-gwebb5CcyxU"
      }
    },
    {
      "cell_type": "code",
      "source": [
        "nr_vacina_pais = dataframe[['country','date','vaccines']]\n",
        "nr_vacina_pais"
      ],
      "metadata": {
        "colab": {
          "base_uri": "https://localhost:8080/",
          "height": 423
        },
        "id": "8f7S1y8YdXAC",
        "outputId": "782eb5cc-b698-4c8e-f248-4368a4be4bab"
      },
      "execution_count": null,
      "outputs": [
        {
          "output_type": "execute_result",
          "data": {
            "text/plain": [
              "           country        date  \\\n",
              "0      Afghanistan  2021-02-22   \n",
              "1      Afghanistan  2021-02-23   \n",
              "2      Afghanistan  2021-02-24   \n",
              "3      Afghanistan  2021-02-25   \n",
              "4      Afghanistan  2021-02-26   \n",
              "...            ...         ...   \n",
              "86507     Zimbabwe  2022-03-25   \n",
              "86508     Zimbabwe  2022-03-26   \n",
              "86509     Zimbabwe  2022-03-27   \n",
              "86510     Zimbabwe  2022-03-28   \n",
              "86511     Zimbabwe  2022-03-29   \n",
              "\n",
              "                                                vaccines  \n",
              "0      Johnson&Johnson, Oxford/AstraZeneca, Pfizer/Bi...  \n",
              "1      Johnson&Johnson, Oxford/AstraZeneca, Pfizer/Bi...  \n",
              "2      Johnson&Johnson, Oxford/AstraZeneca, Pfizer/Bi...  \n",
              "3      Johnson&Johnson, Oxford/AstraZeneca, Pfizer/Bi...  \n",
              "4      Johnson&Johnson, Oxford/AstraZeneca, Pfizer/Bi...  \n",
              "...                                                  ...  \n",
              "86507  Oxford/AstraZeneca, Sinopharm/Beijing, Sinovac...  \n",
              "86508  Oxford/AstraZeneca, Sinopharm/Beijing, Sinovac...  \n",
              "86509  Oxford/AstraZeneca, Sinopharm/Beijing, Sinovac...  \n",
              "86510  Oxford/AstraZeneca, Sinopharm/Beijing, Sinovac...  \n",
              "86511  Oxford/AstraZeneca, Sinopharm/Beijing, Sinovac...  \n",
              "\n",
              "[86512 rows x 3 columns]"
            ],
            "text/html": [
              "\n",
              "  <div id=\"df-23c713f8-8d30-4aa5-9f5e-750b5130f87c\">\n",
              "    <div class=\"colab-df-container\">\n",
              "      <div>\n",
              "<style scoped>\n",
              "    .dataframe tbody tr th:only-of-type {\n",
              "        vertical-align: middle;\n",
              "    }\n",
              "\n",
              "    .dataframe tbody tr th {\n",
              "        vertical-align: top;\n",
              "    }\n",
              "\n",
              "    .dataframe thead th {\n",
              "        text-align: right;\n",
              "    }\n",
              "</style>\n",
              "<table border=\"1\" class=\"dataframe\">\n",
              "  <thead>\n",
              "    <tr style=\"text-align: right;\">\n",
              "      <th></th>\n",
              "      <th>country</th>\n",
              "      <th>date</th>\n",
              "      <th>vaccines</th>\n",
              "    </tr>\n",
              "  </thead>\n",
              "  <tbody>\n",
              "    <tr>\n",
              "      <th>0</th>\n",
              "      <td>Afghanistan</td>\n",
              "      <td>2021-02-22</td>\n",
              "      <td>Johnson&amp;Johnson, Oxford/AstraZeneca, Pfizer/Bi...</td>\n",
              "    </tr>\n",
              "    <tr>\n",
              "      <th>1</th>\n",
              "      <td>Afghanistan</td>\n",
              "      <td>2021-02-23</td>\n",
              "      <td>Johnson&amp;Johnson, Oxford/AstraZeneca, Pfizer/Bi...</td>\n",
              "    </tr>\n",
              "    <tr>\n",
              "      <th>2</th>\n",
              "      <td>Afghanistan</td>\n",
              "      <td>2021-02-24</td>\n",
              "      <td>Johnson&amp;Johnson, Oxford/AstraZeneca, Pfizer/Bi...</td>\n",
              "    </tr>\n",
              "    <tr>\n",
              "      <th>3</th>\n",
              "      <td>Afghanistan</td>\n",
              "      <td>2021-02-25</td>\n",
              "      <td>Johnson&amp;Johnson, Oxford/AstraZeneca, Pfizer/Bi...</td>\n",
              "    </tr>\n",
              "    <tr>\n",
              "      <th>4</th>\n",
              "      <td>Afghanistan</td>\n",
              "      <td>2021-02-26</td>\n",
              "      <td>Johnson&amp;Johnson, Oxford/AstraZeneca, Pfizer/Bi...</td>\n",
              "    </tr>\n",
              "    <tr>\n",
              "      <th>...</th>\n",
              "      <td>...</td>\n",
              "      <td>...</td>\n",
              "      <td>...</td>\n",
              "    </tr>\n",
              "    <tr>\n",
              "      <th>86507</th>\n",
              "      <td>Zimbabwe</td>\n",
              "      <td>2022-03-25</td>\n",
              "      <td>Oxford/AstraZeneca, Sinopharm/Beijing, Sinovac...</td>\n",
              "    </tr>\n",
              "    <tr>\n",
              "      <th>86508</th>\n",
              "      <td>Zimbabwe</td>\n",
              "      <td>2022-03-26</td>\n",
              "      <td>Oxford/AstraZeneca, Sinopharm/Beijing, Sinovac...</td>\n",
              "    </tr>\n",
              "    <tr>\n",
              "      <th>86509</th>\n",
              "      <td>Zimbabwe</td>\n",
              "      <td>2022-03-27</td>\n",
              "      <td>Oxford/AstraZeneca, Sinopharm/Beijing, Sinovac...</td>\n",
              "    </tr>\n",
              "    <tr>\n",
              "      <th>86510</th>\n",
              "      <td>Zimbabwe</td>\n",
              "      <td>2022-03-28</td>\n",
              "      <td>Oxford/AstraZeneca, Sinopharm/Beijing, Sinovac...</td>\n",
              "    </tr>\n",
              "    <tr>\n",
              "      <th>86511</th>\n",
              "      <td>Zimbabwe</td>\n",
              "      <td>2022-03-29</td>\n",
              "      <td>Oxford/AstraZeneca, Sinopharm/Beijing, Sinovac...</td>\n",
              "    </tr>\n",
              "  </tbody>\n",
              "</table>\n",
              "<p>86512 rows × 3 columns</p>\n",
              "</div>\n",
              "      <button class=\"colab-df-convert\" onclick=\"convertToInteractive('df-23c713f8-8d30-4aa5-9f5e-750b5130f87c')\"\n",
              "              title=\"Convert this dataframe to an interactive table.\"\n",
              "              style=\"display:none;\">\n",
              "        \n",
              "  <svg xmlns=\"http://www.w3.org/2000/svg\" height=\"24px\"viewBox=\"0 0 24 24\"\n",
              "       width=\"24px\">\n",
              "    <path d=\"M0 0h24v24H0V0z\" fill=\"none\"/>\n",
              "    <path d=\"M18.56 5.44l.94 2.06.94-2.06 2.06-.94-2.06-.94-.94-2.06-.94 2.06-2.06.94zm-11 1L8.5 8.5l.94-2.06 2.06-.94-2.06-.94L8.5 2.5l-.94 2.06-2.06.94zm10 10l.94 2.06.94-2.06 2.06-.94-2.06-.94-.94-2.06-.94 2.06-2.06.94z\"/><path d=\"M17.41 7.96l-1.37-1.37c-.4-.4-.92-.59-1.43-.59-.52 0-1.04.2-1.43.59L10.3 9.45l-7.72 7.72c-.78.78-.78 2.05 0 2.83L4 21.41c.39.39.9.59 1.41.59.51 0 1.02-.2 1.41-.59l7.78-7.78 2.81-2.81c.8-.78.8-2.07 0-2.86zM5.41 20L4 18.59l7.72-7.72 1.47 1.35L5.41 20z\"/>\n",
              "  </svg>\n",
              "      </button>\n",
              "      \n",
              "  <style>\n",
              "    .colab-df-container {\n",
              "      display:flex;\n",
              "      flex-wrap:wrap;\n",
              "      gap: 12px;\n",
              "    }\n",
              "\n",
              "    .colab-df-convert {\n",
              "      background-color: #E8F0FE;\n",
              "      border: none;\n",
              "      border-radius: 50%;\n",
              "      cursor: pointer;\n",
              "      display: none;\n",
              "      fill: #1967D2;\n",
              "      height: 32px;\n",
              "      padding: 0 0 0 0;\n",
              "      width: 32px;\n",
              "    }\n",
              "\n",
              "    .colab-df-convert:hover {\n",
              "      background-color: #E2EBFA;\n",
              "      box-shadow: 0px 1px 2px rgba(60, 64, 67, 0.3), 0px 1px 3px 1px rgba(60, 64, 67, 0.15);\n",
              "      fill: #174EA6;\n",
              "    }\n",
              "\n",
              "    [theme=dark] .colab-df-convert {\n",
              "      background-color: #3B4455;\n",
              "      fill: #D2E3FC;\n",
              "    }\n",
              "\n",
              "    [theme=dark] .colab-df-convert:hover {\n",
              "      background-color: #434B5C;\n",
              "      box-shadow: 0px 1px 3px 1px rgba(0, 0, 0, 0.15);\n",
              "      filter: drop-shadow(0px 1px 2px rgba(0, 0, 0, 0.3));\n",
              "      fill: #FFFFFF;\n",
              "    }\n",
              "  </style>\n",
              "\n",
              "      <script>\n",
              "        const buttonEl =\n",
              "          document.querySelector('#df-23c713f8-8d30-4aa5-9f5e-750b5130f87c button.colab-df-convert');\n",
              "        buttonEl.style.display =\n",
              "          google.colab.kernel.accessAllowed ? 'block' : 'none';\n",
              "\n",
              "        async function convertToInteractive(key) {\n",
              "          const element = document.querySelector('#df-23c713f8-8d30-4aa5-9f5e-750b5130f87c');\n",
              "          const dataTable =\n",
              "            await google.colab.kernel.invokeFunction('convertToInteractive',\n",
              "                                                     [key], {});\n",
              "          if (!dataTable) return;\n",
              "\n",
              "          const docLinkHtml = 'Like what you see? Visit the ' +\n",
              "            '<a target=\"_blank\" href=https://colab.research.google.com/notebooks/data_table.ipynb>data table notebook</a>'\n",
              "            + ' to learn more about interactive tables.';\n",
              "          element.innerHTML = '';\n",
              "          dataTable['output_type'] = 'display_data';\n",
              "          await google.colab.output.renderOutput(dataTable, element);\n",
              "          const docLink = document.createElement('div');\n",
              "          docLink.innerHTML = docLinkHtml;\n",
              "          element.appendChild(docLink);\n",
              "        }\n",
              "      </script>\n",
              "    </div>\n",
              "  </div>\n",
              "  "
            ]
          },
          "metadata": {},
          "execution_count": 31
        }
      ]
    },
    {
      "cell_type": "markdown",
      "source": [
        "Iremos agrupar as vacinas por pais. Se no dataset tiver um pais utilizando duas vacinas, ele irá contabilizar."
      ],
      "metadata": {
        "id": "idg0h4R9dmOI"
      }
    },
    {
      "cell_type": "code",
      "source": [
        "nr_vacina_pais.groupby('vaccines')['country'].nunique().sort_values(ascending=False)"
      ],
      "metadata": {
        "colab": {
          "base_uri": "https://localhost:8080/"
        },
        "id": "Z4-bPnYJeafb",
        "outputId": "51d9aeb8-2ef5-492e-dd3d-9ef68a1fae45"
      },
      "execution_count": null,
      "outputs": [
        {
          "output_type": "execute_result",
          "data": {
            "text/plain": [
              "vaccines\n",
              "Oxford/AstraZeneca                                                                                    20\n",
              "Johnson&Johnson, Moderna, Oxford/AstraZeneca, Pfizer/BioNTech                                         17\n",
              "Moderna, Oxford/AstraZeneca, Pfizer/BioNTech                                                          15\n",
              "Oxford/AstraZeneca, Pfizer/BioNTech                                                                   11\n",
              "Johnson&Johnson, Moderna, Novavax, Oxford/AstraZeneca, Pfizer/BioNTech                                 8\n",
              "                                                                                                      ..\n",
              "Moderna, Oxford/AstraZeneca, Pfizer/BioNTech, Sinopharm/Beijing, Sinovac                               1\n",
              "Moderna, Oxford/AstraZeneca, Pfizer/BioNTech, Sinovac, Sputnik Light, Sputnik V, ZF2001                1\n",
              "Moderna, Oxford/AstraZeneca, Pfizer/BioNTech, Sinovac, Sputnik V                                       1\n",
              "Moderna, Oxford/AstraZeneca, Pfizer/BioNTech, Sputnik V                                                1\n",
              "Abdala, Johnson&Johnson, Oxford/AstraZeneca, Pfizer/BioNTech, Soberana02, Sputnik Light, Sputnik V     1\n",
              "Name: country, Length: 84, dtype: int64"
            ]
          },
          "metadata": {},
          "execution_count": 35
        }
      ]
    },
    {
      "cell_type": "code",
      "source": [
        "vacinas_pais =  dataframe.groupby('country')['vaccines'].nunique()\n",
        "vacinas_pais = vacinas_pais.to_frame().reset_index()"
      ],
      "metadata": {
        "id": "QKD4aRpZfAAF"
      },
      "execution_count": null,
      "outputs": []
    },
    {
      "cell_type": "markdown",
      "source": [
        "Temos a relação entre as vacinas mais utilizadas no mundo.  Notem que a vacina Oxford/AstraZeneca contém em 20 paises."
      ],
      "metadata": {
        "id": "tJh6IQIEfcjG"
      }
    },
    {
      "cell_type": "markdown",
      "source": [
        "#3. Qual pais possui o maior nr de vacinados por dia?\n",
        "\n",
        "Para obter a resposta temos que analizar a variável daily_vaccinations."
      ],
      "metadata": {
        "id": "4ZtkDDsigeEt"
      }
    },
    {
      "cell_type": "code",
      "source": [
        "dataframe.groupby('country')['daily_vaccinations'].max().sort_values(ascending=False)"
      ],
      "metadata": {
        "colab": {
          "base_uri": "https://localhost:8080/"
        },
        "id": "BHMr_O0pgsj9",
        "outputId": "e6cea676-13b6-43d3-8c9d-799b2fe49784"
      },
      "execution_count": null,
      "outputs": [
        {
          "output_type": "execute_result",
          "data": {
            "text/plain": [
              "country\n",
              "China            22424286.0\n",
              "India            10037995.0\n",
              "Bangladesh        3758404.0\n",
              "United States     3506960.0\n",
              "Pakistan          2175773.0\n",
              "                    ...    \n",
              "Saint Helena          165.0\n",
              "Niue                   87.0\n",
              "Montserrat             53.0\n",
              "Tokelau                23.0\n",
              "Pitcairn                1.0\n",
              "Name: daily_vaccinations, Length: 223, dtype: float64"
            ]
          },
          "metadata": {},
          "execution_count": 38
        }
      ]
    },
    {
      "cell_type": "markdown",
      "source": [
        "#4. Qual a média de vacinação diariamente por país? "
      ],
      "metadata": {
        "id": "VEx9c-5mhPcP"
      }
    },
    {
      "cell_type": "code",
      "source": [
        "media_pais = dataframe.groupby('country')['daily_vaccinations'].mean().sort_values(ascending=False)\n",
        "media_pais = media_pais.to_frame().reset_index()\n",
        "media_pais"
      ],
      "metadata": {
        "colab": {
          "base_uri": "https://localhost:8080/",
          "height": 423
        },
        "id": "cvmPE2_dhRGj",
        "outputId": "796d1700-9996-4e4e-c6c9-daabf8108cb1"
      },
      "execution_count": null,
      "outputs": [
        {
          "output_type": "execute_result",
          "data": {
            "text/plain": [
              "               country  daily_vaccinations\n",
              "0                China        6.930368e+06\n",
              "1                India        4.175994e+06\n",
              "2        United States        1.191727e+06\n",
              "3               Brazil        9.435287e+05\n",
              "4            Indonesia        8.462893e+05\n",
              "..                 ...                 ...\n",
              "218  Wallis and Futuna        3.388649e+01\n",
              "219            Tokelau        1.739823e+01\n",
              "220               Niue        1.631698e+01\n",
              "221         Montserrat        1.053659e+01\n",
              "222           Pitcairn        5.119048e-01\n",
              "\n",
              "[223 rows x 2 columns]"
            ],
            "text/html": [
              "\n",
              "  <div id=\"df-65d1c959-5c96-436a-83fd-bd8511c0d663\">\n",
              "    <div class=\"colab-df-container\">\n",
              "      <div>\n",
              "<style scoped>\n",
              "    .dataframe tbody tr th:only-of-type {\n",
              "        vertical-align: middle;\n",
              "    }\n",
              "\n",
              "    .dataframe tbody tr th {\n",
              "        vertical-align: top;\n",
              "    }\n",
              "\n",
              "    .dataframe thead th {\n",
              "        text-align: right;\n",
              "    }\n",
              "</style>\n",
              "<table border=\"1\" class=\"dataframe\">\n",
              "  <thead>\n",
              "    <tr style=\"text-align: right;\">\n",
              "      <th></th>\n",
              "      <th>country</th>\n",
              "      <th>daily_vaccinations</th>\n",
              "    </tr>\n",
              "  </thead>\n",
              "  <tbody>\n",
              "    <tr>\n",
              "      <th>0</th>\n",
              "      <td>China</td>\n",
              "      <td>6.930368e+06</td>\n",
              "    </tr>\n",
              "    <tr>\n",
              "      <th>1</th>\n",
              "      <td>India</td>\n",
              "      <td>4.175994e+06</td>\n",
              "    </tr>\n",
              "    <tr>\n",
              "      <th>2</th>\n",
              "      <td>United States</td>\n",
              "      <td>1.191727e+06</td>\n",
              "    </tr>\n",
              "    <tr>\n",
              "      <th>3</th>\n",
              "      <td>Brazil</td>\n",
              "      <td>9.435287e+05</td>\n",
              "    </tr>\n",
              "    <tr>\n",
              "      <th>4</th>\n",
              "      <td>Indonesia</td>\n",
              "      <td>8.462893e+05</td>\n",
              "    </tr>\n",
              "    <tr>\n",
              "      <th>...</th>\n",
              "      <td>...</td>\n",
              "      <td>...</td>\n",
              "    </tr>\n",
              "    <tr>\n",
              "      <th>218</th>\n",
              "      <td>Wallis and Futuna</td>\n",
              "      <td>3.388649e+01</td>\n",
              "    </tr>\n",
              "    <tr>\n",
              "      <th>219</th>\n",
              "      <td>Tokelau</td>\n",
              "      <td>1.739823e+01</td>\n",
              "    </tr>\n",
              "    <tr>\n",
              "      <th>220</th>\n",
              "      <td>Niue</td>\n",
              "      <td>1.631698e+01</td>\n",
              "    </tr>\n",
              "    <tr>\n",
              "      <th>221</th>\n",
              "      <td>Montserrat</td>\n",
              "      <td>1.053659e+01</td>\n",
              "    </tr>\n",
              "    <tr>\n",
              "      <th>222</th>\n",
              "      <td>Pitcairn</td>\n",
              "      <td>5.119048e-01</td>\n",
              "    </tr>\n",
              "  </tbody>\n",
              "</table>\n",
              "<p>223 rows × 2 columns</p>\n",
              "</div>\n",
              "      <button class=\"colab-df-convert\" onclick=\"convertToInteractive('df-65d1c959-5c96-436a-83fd-bd8511c0d663')\"\n",
              "              title=\"Convert this dataframe to an interactive table.\"\n",
              "              style=\"display:none;\">\n",
              "        \n",
              "  <svg xmlns=\"http://www.w3.org/2000/svg\" height=\"24px\"viewBox=\"0 0 24 24\"\n",
              "       width=\"24px\">\n",
              "    <path d=\"M0 0h24v24H0V0z\" fill=\"none\"/>\n",
              "    <path d=\"M18.56 5.44l.94 2.06.94-2.06 2.06-.94-2.06-.94-.94-2.06-.94 2.06-2.06.94zm-11 1L8.5 8.5l.94-2.06 2.06-.94-2.06-.94L8.5 2.5l-.94 2.06-2.06.94zm10 10l.94 2.06.94-2.06 2.06-.94-2.06-.94-.94-2.06-.94 2.06-2.06.94z\"/><path d=\"M17.41 7.96l-1.37-1.37c-.4-.4-.92-.59-1.43-.59-.52 0-1.04.2-1.43.59L10.3 9.45l-7.72 7.72c-.78.78-.78 2.05 0 2.83L4 21.41c.39.39.9.59 1.41.59.51 0 1.02-.2 1.41-.59l7.78-7.78 2.81-2.81c.8-.78.8-2.07 0-2.86zM5.41 20L4 18.59l7.72-7.72 1.47 1.35L5.41 20z\"/>\n",
              "  </svg>\n",
              "      </button>\n",
              "      \n",
              "  <style>\n",
              "    .colab-df-container {\n",
              "      display:flex;\n",
              "      flex-wrap:wrap;\n",
              "      gap: 12px;\n",
              "    }\n",
              "\n",
              "    .colab-df-convert {\n",
              "      background-color: #E8F0FE;\n",
              "      border: none;\n",
              "      border-radius: 50%;\n",
              "      cursor: pointer;\n",
              "      display: none;\n",
              "      fill: #1967D2;\n",
              "      height: 32px;\n",
              "      padding: 0 0 0 0;\n",
              "      width: 32px;\n",
              "    }\n",
              "\n",
              "    .colab-df-convert:hover {\n",
              "      background-color: #E2EBFA;\n",
              "      box-shadow: 0px 1px 2px rgba(60, 64, 67, 0.3), 0px 1px 3px 1px rgba(60, 64, 67, 0.15);\n",
              "      fill: #174EA6;\n",
              "    }\n",
              "\n",
              "    [theme=dark] .colab-df-convert {\n",
              "      background-color: #3B4455;\n",
              "      fill: #D2E3FC;\n",
              "    }\n",
              "\n",
              "    [theme=dark] .colab-df-convert:hover {\n",
              "      background-color: #434B5C;\n",
              "      box-shadow: 0px 1px 3px 1px rgba(0, 0, 0, 0.15);\n",
              "      filter: drop-shadow(0px 1px 2px rgba(0, 0, 0, 0.3));\n",
              "      fill: #FFFFFF;\n",
              "    }\n",
              "  </style>\n",
              "\n",
              "      <script>\n",
              "        const buttonEl =\n",
              "          document.querySelector('#df-65d1c959-5c96-436a-83fd-bd8511c0d663 button.colab-df-convert');\n",
              "        buttonEl.style.display =\n",
              "          google.colab.kernel.accessAllowed ? 'block' : 'none';\n",
              "\n",
              "        async function convertToInteractive(key) {\n",
              "          const element = document.querySelector('#df-65d1c959-5c96-436a-83fd-bd8511c0d663');\n",
              "          const dataTable =\n",
              "            await google.colab.kernel.invokeFunction('convertToInteractive',\n",
              "                                                     [key], {});\n",
              "          if (!dataTable) return;\n",
              "\n",
              "          const docLinkHtml = 'Like what you see? Visit the ' +\n",
              "            '<a target=\"_blank\" href=https://colab.research.google.com/notebooks/data_table.ipynb>data table notebook</a>'\n",
              "            + ' to learn more about interactive tables.';\n",
              "          element.innerHTML = '';\n",
              "          dataTable['output_type'] = 'display_data';\n",
              "          await google.colab.output.renderOutput(dataTable, element);\n",
              "          const docLink = document.createElement('div');\n",
              "          docLink.innerHTML = docLinkHtml;\n",
              "          element.appendChild(docLink);\n",
              "        }\n",
              "      </script>\n",
              "    </div>\n",
              "  </div>\n",
              "  "
            ]
          },
          "metadata": {},
          "execution_count": 40
        }
      ]
    },
    {
      "cell_type": "markdown",
      "source": [
        "Todas as perguntas respondidas!!!\n",
        "Um dos trabalho de um cientista de dados é extrair, limpar, tratr e gerar novos dados.\n",
        "\n",
        "Geramos alguns dataframes das perguntas que criamos.\n",
        "1. nr_imunizados_pais\n",
        "2. nr_vacina_pais\n",
        "3. media_pais\n",
        "\n",
        "Agora vamos criar uma noba base de dados utilizando os dados que tratamos anteriomente.\n"
      ],
      "metadata": {
        "id": "uPosW_xXiTWf"
      }
    },
    {
      "cell_type": "code",
      "source": [
        "# renomenado as colunas\n",
        "media_pais = media_pais.rename(columns={'country':'pais','daily_vaccination':'media_vacinacao'})\n",
        "media_pais[:5]"
      ],
      "metadata": {
        "id": "RjT4ntATjBjF"
      },
      "execution_count": null,
      "outputs": []
    },
    {
      "cell_type": "code",
      "source": [
        "# renomenado as colunas\n",
        "nr_vacina_pais = nr_vacina_pais.rename(columns={'country':'pais','vaccines':'vacina'})\n",
        "nr_vacina_pais[:5]"
      ],
      "metadata": {
        "id": "uc6PYXkTjrOV"
      },
      "execution_count": null,
      "outputs": []
    },
    {
      "cell_type": "code",
      "source": [
        "nr_imunizados_pais = nr_imunizados_pais.rename(columns={'country':'pais','total_vaccinations':'nr_imunizados'})\n",
        "nr_imunizados_pais[:5] \n"
      ],
      "metadata": {
        "colab": {
          "base_uri": "https://localhost:8080/",
          "height": 206
        },
        "id": "q2B_lVJtj717",
        "outputId": "f98ce746-6995-4ae0-f3a0-548e91b9fe5b"
      },
      "execution_count": null,
      "outputs": [
        {
          "output_type": "execute_result",
          "data": {
            "text/plain": [
              "            pais  nr_imunizados\n",
              "0          China   3.263129e+09\n",
              "1          India   1.834501e+09\n",
              "2  United States   5.601818e+08\n",
              "3         Brazil   4.135596e+08\n",
              "4      Indonesia   3.771089e+08"
            ],
            "text/html": [
              "\n",
              "  <div id=\"df-da1633e4-ec4d-4966-92d9-69decb611ea8\">\n",
              "    <div class=\"colab-df-container\">\n",
              "      <div>\n",
              "<style scoped>\n",
              "    .dataframe tbody tr th:only-of-type {\n",
              "        vertical-align: middle;\n",
              "    }\n",
              "\n",
              "    .dataframe tbody tr th {\n",
              "        vertical-align: top;\n",
              "    }\n",
              "\n",
              "    .dataframe thead th {\n",
              "        text-align: right;\n",
              "    }\n",
              "</style>\n",
              "<table border=\"1\" class=\"dataframe\">\n",
              "  <thead>\n",
              "    <tr style=\"text-align: right;\">\n",
              "      <th></th>\n",
              "      <th>pais</th>\n",
              "      <th>nr_imunizados</th>\n",
              "    </tr>\n",
              "  </thead>\n",
              "  <tbody>\n",
              "    <tr>\n",
              "      <th>0</th>\n",
              "      <td>China</td>\n",
              "      <td>3.263129e+09</td>\n",
              "    </tr>\n",
              "    <tr>\n",
              "      <th>1</th>\n",
              "      <td>India</td>\n",
              "      <td>1.834501e+09</td>\n",
              "    </tr>\n",
              "    <tr>\n",
              "      <th>2</th>\n",
              "      <td>United States</td>\n",
              "      <td>5.601818e+08</td>\n",
              "    </tr>\n",
              "    <tr>\n",
              "      <th>3</th>\n",
              "      <td>Brazil</td>\n",
              "      <td>4.135596e+08</td>\n",
              "    </tr>\n",
              "    <tr>\n",
              "      <th>4</th>\n",
              "      <td>Indonesia</td>\n",
              "      <td>3.771089e+08</td>\n",
              "    </tr>\n",
              "  </tbody>\n",
              "</table>\n",
              "</div>\n",
              "      <button class=\"colab-df-convert\" onclick=\"convertToInteractive('df-da1633e4-ec4d-4966-92d9-69decb611ea8')\"\n",
              "              title=\"Convert this dataframe to an interactive table.\"\n",
              "              style=\"display:none;\">\n",
              "        \n",
              "  <svg xmlns=\"http://www.w3.org/2000/svg\" height=\"24px\"viewBox=\"0 0 24 24\"\n",
              "       width=\"24px\">\n",
              "    <path d=\"M0 0h24v24H0V0z\" fill=\"none\"/>\n",
              "    <path d=\"M18.56 5.44l.94 2.06.94-2.06 2.06-.94-2.06-.94-.94-2.06-.94 2.06-2.06.94zm-11 1L8.5 8.5l.94-2.06 2.06-.94-2.06-.94L8.5 2.5l-.94 2.06-2.06.94zm10 10l.94 2.06.94-2.06 2.06-.94-2.06-.94-.94-2.06-.94 2.06-2.06.94z\"/><path d=\"M17.41 7.96l-1.37-1.37c-.4-.4-.92-.59-1.43-.59-.52 0-1.04.2-1.43.59L10.3 9.45l-7.72 7.72c-.78.78-.78 2.05 0 2.83L4 21.41c.39.39.9.59 1.41.59.51 0 1.02-.2 1.41-.59l7.78-7.78 2.81-2.81c.8-.78.8-2.07 0-2.86zM5.41 20L4 18.59l7.72-7.72 1.47 1.35L5.41 20z\"/>\n",
              "  </svg>\n",
              "      </button>\n",
              "      \n",
              "  <style>\n",
              "    .colab-df-container {\n",
              "      display:flex;\n",
              "      flex-wrap:wrap;\n",
              "      gap: 12px;\n",
              "    }\n",
              "\n",
              "    .colab-df-convert {\n",
              "      background-color: #E8F0FE;\n",
              "      border: none;\n",
              "      border-radius: 50%;\n",
              "      cursor: pointer;\n",
              "      display: none;\n",
              "      fill: #1967D2;\n",
              "      height: 32px;\n",
              "      padding: 0 0 0 0;\n",
              "      width: 32px;\n",
              "    }\n",
              "\n",
              "    .colab-df-convert:hover {\n",
              "      background-color: #E2EBFA;\n",
              "      box-shadow: 0px 1px 2px rgba(60, 64, 67, 0.3), 0px 1px 3px 1px rgba(60, 64, 67, 0.15);\n",
              "      fill: #174EA6;\n",
              "    }\n",
              "\n",
              "    [theme=dark] .colab-df-convert {\n",
              "      background-color: #3B4455;\n",
              "      fill: #D2E3FC;\n",
              "    }\n",
              "\n",
              "    [theme=dark] .colab-df-convert:hover {\n",
              "      background-color: #434B5C;\n",
              "      box-shadow: 0px 1px 3px 1px rgba(0, 0, 0, 0.15);\n",
              "      filter: drop-shadow(0px 1px 2px rgba(0, 0, 0, 0.3));\n",
              "      fill: #FFFFFF;\n",
              "    }\n",
              "  </style>\n",
              "\n",
              "      <script>\n",
              "        const buttonEl =\n",
              "          document.querySelector('#df-da1633e4-ec4d-4966-92d9-69decb611ea8 button.colab-df-convert');\n",
              "        buttonEl.style.display =\n",
              "          google.colab.kernel.accessAllowed ? 'block' : 'none';\n",
              "\n",
              "        async function convertToInteractive(key) {\n",
              "          const element = document.querySelector('#df-da1633e4-ec4d-4966-92d9-69decb611ea8');\n",
              "          const dataTable =\n",
              "            await google.colab.kernel.invokeFunction('convertToInteractive',\n",
              "                                                     [key], {});\n",
              "          if (!dataTable) return;\n",
              "\n",
              "          const docLinkHtml = 'Like what you see? Visit the ' +\n",
              "            '<a target=\"_blank\" href=https://colab.research.google.com/notebooks/data_table.ipynb>data table notebook</a>'\n",
              "            + ' to learn more about interactive tables.';\n",
              "          element.innerHTML = '';\n",
              "          dataTable['output_type'] = 'display_data';\n",
              "          await google.colab.output.renderOutput(dataTable, element);\n",
              "          const docLink = document.createElement('div');\n",
              "          docLink.innerHTML = docLinkHtml;\n",
              "          element.appendChild(docLink);\n",
              "        }\n",
              "      </script>\n",
              "    </div>\n",
              "  </div>\n",
              "  "
            ]
          },
          "metadata": {},
          "execution_count": 44
        }
      ]
    },
    {
      "cell_type": "markdown",
      "source": [
        "# Criando um novo dataset\n",
        "para criar um novo dateser, vamos utilizar a função merge. Essa função vai comparar os campos das tabelas que são chaves iguais, como o nome do pais e realizar uma junção entre as tabelas. Assim vamos ter todos os dados tratados em uma única tabela."
      ],
      "metadata": {
        "id": "uMZ0EeR5krC7"
      }
    },
    {
      "cell_type": "code",
      "source": [
        "db_tratados = pd.merge(nr_imunizados_pais,media_pais, how ='inner')"
      ],
      "metadata": {
        "id": "SlBTBIv-m7Bz"
      },
      "execution_count": null,
      "outputs": []
    },
    {
      "cell_type": "code",
      "source": [
        "db_tratados = pd.merge(db_tratados,nr_imunizados_pais)"
      ],
      "metadata": {
        "id": "RuegLQ27nOxe"
      },
      "execution_count": null,
      "outputs": []
    },
    {
      "cell_type": "markdown",
      "source": [
        "Podemos também realizar de forma direta conforme o script abaixo."
      ],
      "metadata": {
        "id": "iT0xqA_pni57"
      }
    },
    {
      "cell_type": "code",
      "source": [
        "pd.merge(pd.merge(nr_imunizados_pais,media_pais),nr_vacina_pais)"
      ],
      "metadata": {
        "colab": {
          "base_uri": "https://localhost:8080/",
          "height": 641
        },
        "id": "o8bjCGBRnqtV",
        "outputId": "1660467c-fcc5-40a4-f7ae-c20c89cd59aa"
      },
      "execution_count": null,
      "outputs": [
        {
          "output_type": "execute_result",
          "data": {
            "text/plain": [
              "           pais  nr_imunizados  daily_vaccinations        date  \\\n",
              "0         China   3.263129e+09        6.930368e+06  2020-12-15   \n",
              "1         China   3.263129e+09        6.930368e+06  2020-12-16   \n",
              "2         China   3.263129e+09        6.930368e+06  2020-12-17   \n",
              "3         China   3.263129e+09        6.930368e+06  2020-12-18   \n",
              "4         China   3.263129e+09        6.930368e+06  2020-12-19   \n",
              "...         ...            ...                 ...         ...   \n",
              "86507  Pitcairn   9.400000e+01        5.119048e-01  2021-09-03   \n",
              "86508  Pitcairn   9.400000e+01        5.119048e-01  2021-09-04   \n",
              "86509  Pitcairn   9.400000e+01        5.119048e-01  2021-09-05   \n",
              "86510  Pitcairn   9.400000e+01        5.119048e-01  2021-09-06   \n",
              "86511  Pitcairn   9.400000e+01        5.119048e-01  2021-09-07   \n",
              "\n",
              "                                                  vacina  \n",
              "0      CanSino, Sinopharm/Beijing, Sinopharm/Wuhan, S...  \n",
              "1      CanSino, Sinopharm/Beijing, Sinopharm/Wuhan, S...  \n",
              "2      CanSino, Sinopharm/Beijing, Sinopharm/Wuhan, S...  \n",
              "3      CanSino, Sinopharm/Beijing, Sinopharm/Wuhan, S...  \n",
              "4      CanSino, Sinopharm/Beijing, Sinopharm/Wuhan, S...  \n",
              "...                                                  ...  \n",
              "86507                                 Oxford/AstraZeneca  \n",
              "86508                                 Oxford/AstraZeneca  \n",
              "86509                                 Oxford/AstraZeneca  \n",
              "86510                                 Oxford/AstraZeneca  \n",
              "86511                                 Oxford/AstraZeneca  \n",
              "\n",
              "[86512 rows x 5 columns]"
            ],
            "text/html": [
              "\n",
              "  <div id=\"df-e10f9643-3adb-4a9c-b86e-0cab5c8f3fdb\">\n",
              "    <div class=\"colab-df-container\">\n",
              "      <div>\n",
              "<style scoped>\n",
              "    .dataframe tbody tr th:only-of-type {\n",
              "        vertical-align: middle;\n",
              "    }\n",
              "\n",
              "    .dataframe tbody tr th {\n",
              "        vertical-align: top;\n",
              "    }\n",
              "\n",
              "    .dataframe thead th {\n",
              "        text-align: right;\n",
              "    }\n",
              "</style>\n",
              "<table border=\"1\" class=\"dataframe\">\n",
              "  <thead>\n",
              "    <tr style=\"text-align: right;\">\n",
              "      <th></th>\n",
              "      <th>pais</th>\n",
              "      <th>nr_imunizados</th>\n",
              "      <th>daily_vaccinations</th>\n",
              "      <th>date</th>\n",
              "      <th>vacina</th>\n",
              "    </tr>\n",
              "  </thead>\n",
              "  <tbody>\n",
              "    <tr>\n",
              "      <th>0</th>\n",
              "      <td>China</td>\n",
              "      <td>3.263129e+09</td>\n",
              "      <td>6.930368e+06</td>\n",
              "      <td>2020-12-15</td>\n",
              "      <td>CanSino, Sinopharm/Beijing, Sinopharm/Wuhan, S...</td>\n",
              "    </tr>\n",
              "    <tr>\n",
              "      <th>1</th>\n",
              "      <td>China</td>\n",
              "      <td>3.263129e+09</td>\n",
              "      <td>6.930368e+06</td>\n",
              "      <td>2020-12-16</td>\n",
              "      <td>CanSino, Sinopharm/Beijing, Sinopharm/Wuhan, S...</td>\n",
              "    </tr>\n",
              "    <tr>\n",
              "      <th>2</th>\n",
              "      <td>China</td>\n",
              "      <td>3.263129e+09</td>\n",
              "      <td>6.930368e+06</td>\n",
              "      <td>2020-12-17</td>\n",
              "      <td>CanSino, Sinopharm/Beijing, Sinopharm/Wuhan, S...</td>\n",
              "    </tr>\n",
              "    <tr>\n",
              "      <th>3</th>\n",
              "      <td>China</td>\n",
              "      <td>3.263129e+09</td>\n",
              "      <td>6.930368e+06</td>\n",
              "      <td>2020-12-18</td>\n",
              "      <td>CanSino, Sinopharm/Beijing, Sinopharm/Wuhan, S...</td>\n",
              "    </tr>\n",
              "    <tr>\n",
              "      <th>4</th>\n",
              "      <td>China</td>\n",
              "      <td>3.263129e+09</td>\n",
              "      <td>6.930368e+06</td>\n",
              "      <td>2020-12-19</td>\n",
              "      <td>CanSino, Sinopharm/Beijing, Sinopharm/Wuhan, S...</td>\n",
              "    </tr>\n",
              "    <tr>\n",
              "      <th>...</th>\n",
              "      <td>...</td>\n",
              "      <td>...</td>\n",
              "      <td>...</td>\n",
              "      <td>...</td>\n",
              "      <td>...</td>\n",
              "    </tr>\n",
              "    <tr>\n",
              "      <th>86507</th>\n",
              "      <td>Pitcairn</td>\n",
              "      <td>9.400000e+01</td>\n",
              "      <td>5.119048e-01</td>\n",
              "      <td>2021-09-03</td>\n",
              "      <td>Oxford/AstraZeneca</td>\n",
              "    </tr>\n",
              "    <tr>\n",
              "      <th>86508</th>\n",
              "      <td>Pitcairn</td>\n",
              "      <td>9.400000e+01</td>\n",
              "      <td>5.119048e-01</td>\n",
              "      <td>2021-09-04</td>\n",
              "      <td>Oxford/AstraZeneca</td>\n",
              "    </tr>\n",
              "    <tr>\n",
              "      <th>86509</th>\n",
              "      <td>Pitcairn</td>\n",
              "      <td>9.400000e+01</td>\n",
              "      <td>5.119048e-01</td>\n",
              "      <td>2021-09-05</td>\n",
              "      <td>Oxford/AstraZeneca</td>\n",
              "    </tr>\n",
              "    <tr>\n",
              "      <th>86510</th>\n",
              "      <td>Pitcairn</td>\n",
              "      <td>9.400000e+01</td>\n",
              "      <td>5.119048e-01</td>\n",
              "      <td>2021-09-06</td>\n",
              "      <td>Oxford/AstraZeneca</td>\n",
              "    </tr>\n",
              "    <tr>\n",
              "      <th>86511</th>\n",
              "      <td>Pitcairn</td>\n",
              "      <td>9.400000e+01</td>\n",
              "      <td>5.119048e-01</td>\n",
              "      <td>2021-09-07</td>\n",
              "      <td>Oxford/AstraZeneca</td>\n",
              "    </tr>\n",
              "  </tbody>\n",
              "</table>\n",
              "<p>86512 rows × 5 columns</p>\n",
              "</div>\n",
              "      <button class=\"colab-df-convert\" onclick=\"convertToInteractive('df-e10f9643-3adb-4a9c-b86e-0cab5c8f3fdb')\"\n",
              "              title=\"Convert this dataframe to an interactive table.\"\n",
              "              style=\"display:none;\">\n",
              "        \n",
              "  <svg xmlns=\"http://www.w3.org/2000/svg\" height=\"24px\"viewBox=\"0 0 24 24\"\n",
              "       width=\"24px\">\n",
              "    <path d=\"M0 0h24v24H0V0z\" fill=\"none\"/>\n",
              "    <path d=\"M18.56 5.44l.94 2.06.94-2.06 2.06-.94-2.06-.94-.94-2.06-.94 2.06-2.06.94zm-11 1L8.5 8.5l.94-2.06 2.06-.94-2.06-.94L8.5 2.5l-.94 2.06-2.06.94zm10 10l.94 2.06.94-2.06 2.06-.94-2.06-.94-.94-2.06-.94 2.06-2.06.94z\"/><path d=\"M17.41 7.96l-1.37-1.37c-.4-.4-.92-.59-1.43-.59-.52 0-1.04.2-1.43.59L10.3 9.45l-7.72 7.72c-.78.78-.78 2.05 0 2.83L4 21.41c.39.39.9.59 1.41.59.51 0 1.02-.2 1.41-.59l7.78-7.78 2.81-2.81c.8-.78.8-2.07 0-2.86zM5.41 20L4 18.59l7.72-7.72 1.47 1.35L5.41 20z\"/>\n",
              "  </svg>\n",
              "      </button>\n",
              "      \n",
              "  <style>\n",
              "    .colab-df-container {\n",
              "      display:flex;\n",
              "      flex-wrap:wrap;\n",
              "      gap: 12px;\n",
              "    }\n",
              "\n",
              "    .colab-df-convert {\n",
              "      background-color: #E8F0FE;\n",
              "      border: none;\n",
              "      border-radius: 50%;\n",
              "      cursor: pointer;\n",
              "      display: none;\n",
              "      fill: #1967D2;\n",
              "      height: 32px;\n",
              "      padding: 0 0 0 0;\n",
              "      width: 32px;\n",
              "    }\n",
              "\n",
              "    .colab-df-convert:hover {\n",
              "      background-color: #E2EBFA;\n",
              "      box-shadow: 0px 1px 2px rgba(60, 64, 67, 0.3), 0px 1px 3px 1px rgba(60, 64, 67, 0.15);\n",
              "      fill: #174EA6;\n",
              "    }\n",
              "\n",
              "    [theme=dark] .colab-df-convert {\n",
              "      background-color: #3B4455;\n",
              "      fill: #D2E3FC;\n",
              "    }\n",
              "\n",
              "    [theme=dark] .colab-df-convert:hover {\n",
              "      background-color: #434B5C;\n",
              "      box-shadow: 0px 1px 3px 1px rgba(0, 0, 0, 0.15);\n",
              "      filter: drop-shadow(0px 1px 2px rgba(0, 0, 0, 0.3));\n",
              "      fill: #FFFFFF;\n",
              "    }\n",
              "  </style>\n",
              "\n",
              "      <script>\n",
              "        const buttonEl =\n",
              "          document.querySelector('#df-e10f9643-3adb-4a9c-b86e-0cab5c8f3fdb button.colab-df-convert');\n",
              "        buttonEl.style.display =\n",
              "          google.colab.kernel.accessAllowed ? 'block' : 'none';\n",
              "\n",
              "        async function convertToInteractive(key) {\n",
              "          const element = document.querySelector('#df-e10f9643-3adb-4a9c-b86e-0cab5c8f3fdb');\n",
              "          const dataTable =\n",
              "            await google.colab.kernel.invokeFunction('convertToInteractive',\n",
              "                                                     [key], {});\n",
              "          if (!dataTable) return;\n",
              "\n",
              "          const docLinkHtml = 'Like what you see? Visit the ' +\n",
              "            '<a target=\"_blank\" href=https://colab.research.google.com/notebooks/data_table.ipynb>data table notebook</a>'\n",
              "            + ' to learn more about interactive tables.';\n",
              "          element.innerHTML = '';\n",
              "          dataTable['output_type'] = 'display_data';\n",
              "          await google.colab.output.renderOutput(dataTable, element);\n",
              "          const docLink = document.createElement('div');\n",
              "          docLink.innerHTML = docLinkHtml;\n",
              "          element.appendChild(docLink);\n",
              "        }\n",
              "      </script>\n",
              "    </div>\n",
              "  </div>\n",
              "  "
            ]
          },
          "metadata": {},
          "execution_count": 48
        }
      ]
    },
    {
      "cell_type": "markdown",
      "source": [
        "#Exportando dados tratados\n",
        "\n",
        "Exportando para um arquivo txt."
      ],
      "metadata": {
        "id": "qRandbZdoJ3n"
      }
    },
    {
      "cell_type": "code",
      "source": [
        "#Exportando para um arquivo txt.\n",
        "db_tratados.to_csv('estatictica_pais.csv', index = True, sep =';')"
      ],
      "metadata": {
        "id": "nFIRs1QgoXmc"
      },
      "execution_count": null,
      "outputs": []
    },
    {
      "cell_type": "code",
      "source": [
        "#Exportando para um arquivo json.\n",
        "db_tratados.to_json('estatictica.json', orient='records')"
      ],
      "metadata": {
        "id": "_uA4Q6vGoqVt"
      },
      "execution_count": null,
      "outputs": []
    }
  ]
}