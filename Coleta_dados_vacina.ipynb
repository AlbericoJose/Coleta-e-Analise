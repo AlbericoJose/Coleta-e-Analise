{
  "cells": [
    {
      "cell_type": "markdown",
      "metadata": {
        "id": "view-in-github",
        "colab_type": "text"
      },
      "source": [
        "<a href=\"https://colab.research.google.com/github/AlbericoJose/Coleta-e-Analise/blob/main/Coleta_dados_vacina.ipynb\" target=\"_parent\"><img src=\"https://colab.research.google.com/assets/colab-badge.svg\" alt=\"Open In Colab\"/></a>"
      ]
    },
    {
      "cell_type": "markdown",
      "id": "44ee9bc0",
      "metadata": {
        "id": "44ee9bc0"
      },
      "source": [
        "# Coleta de dados estruturados"
      ]
    },
    {
      "cell_type": "code",
      "execution_count": null,
      "id": "1311f12e",
      "metadata": {
        "id": "1311f12e"
      },
      "outputs": [],
      "source": [
        "import pandas as pd\n",
        "import os"
      ]
    },
    {
      "cell_type": "markdown",
      "id": "b2eb3ec9",
      "metadata": {
        "id": "b2eb3ec9"
      },
      "source": [
        "# Importando dados do arquivo\n"
      ]
    },
    {
      "cell_type": "code",
      "execution_count": null,
      "id": "6c1b0bfd",
      "metadata": {
        "id": "6c1b0bfd"
      },
      "outputs": [],
      "source": [
        "DIRETORIO = 'C:\\\\Projetos\\\\coleta_dados_estruturados\\\\datasets\\\\'\n",
        "arquivo = 'country_vaccinations.csv'\n",
        "dados = os.path.join(DIRETORIO, arquivo) # busca o caminho do arquivo já com as converções"
      ]
    },
    {
      "cell_type": "markdown",
      "id": "143d4bee",
      "metadata": {
        "id": "143d4bee"
      },
      "source": [
        "# Verifica o caminho do diretório que o arquivo esta salvo"
      ]
    },
    {
      "cell_type": "code",
      "execution_count": null,
      "id": "f822919e",
      "metadata": {
        "id": "f822919e",
        "outputId": "62b13a0c-a48b-4f21-a45e-6eb315d0d942"
      },
      "outputs": [
        {
          "data": {
            "text/plain": [
              "'C:\\\\Projetos\\\\coleta_dados_estruturados\\\\datasets\\\\country_vaccinations.csv'"
            ]
          },
          "execution_count": 3,
          "metadata": {},
          "output_type": "execute_result"
        }
      ],
      "source": [
        "dados"
      ]
    },
    {
      "cell_type": "markdown",
      "id": "fc65beeb",
      "metadata": {
        "id": "fc65beeb"
      },
      "source": [
        "#  Entrar no diretório onde está o arquivo e transformar em um dataframe do pandas"
      ]
    },
    {
      "cell_type": "code",
      "execution_count": null,
      "id": "e4cde5a5",
      "metadata": {
        "id": "e4cde5a5"
      },
      "outputs": [],
      "source": [
        "dataframe = pd.read_csv(dados, sep=',', encoding='latin-1')"
      ]
    },
    {
      "cell_type": "code",
      "execution_count": null,
      "id": "983901ce",
      "metadata": {
        "id": "983901ce",
        "outputId": "79f6f7be-b57f-47d6-85b3-cbebbf8b4f99"
      },
      "outputs": [
        {
          "data": {
            "text/html": [
              "<div>\n",
              "<style scoped>\n",
              "    .dataframe tbody tr th:only-of-type {\n",
              "        vertical-align: middle;\n",
              "    }\n",
              "\n",
              "    .dataframe tbody tr th {\n",
              "        vertical-align: top;\n",
              "    }\n",
              "\n",
              "    .dataframe thead th {\n",
              "        text-align: right;\n",
              "    }\n",
              "</style>\n",
              "<table border=\"1\" class=\"dataframe\">\n",
              "  <thead>\n",
              "    <tr style=\"text-align: right;\">\n",
              "      <th></th>\n",
              "      <th>country</th>\n",
              "      <th>iso_code</th>\n",
              "      <th>date</th>\n",
              "      <th>total_vaccinations</th>\n",
              "      <th>people_vaccinated</th>\n",
              "      <th>people_fully_vaccinated</th>\n",
              "      <th>daily_vaccinations_raw</th>\n",
              "      <th>daily_vaccinations</th>\n",
              "      <th>total_vaccinations_per_hundred</th>\n",
              "      <th>people_vaccinated_per_hundred</th>\n",
              "      <th>people_fully_vaccinated_per_hundred</th>\n",
              "      <th>daily_vaccinations_per_million</th>\n",
              "      <th>vaccines</th>\n",
              "      <th>source_name</th>\n",
              "      <th>source_website</th>\n",
              "    </tr>\n",
              "  </thead>\n",
              "  <tbody>\n",
              "    <tr>\n",
              "      <th>0</th>\n",
              "      <td>Afghanistan</td>\n",
              "      <td>AFG</td>\n",
              "      <td>2021-02-22</td>\n",
              "      <td>0.0</td>\n",
              "      <td>0.0</td>\n",
              "      <td>NaN</td>\n",
              "      <td>NaN</td>\n",
              "      <td>NaN</td>\n",
              "      <td>0.0</td>\n",
              "      <td>0.0</td>\n",
              "      <td>NaN</td>\n",
              "      <td>NaN</td>\n",
              "      <td>Johnson&amp;Johnson, Oxford/AstraZeneca, Pfizer/Bi...</td>\n",
              "      <td>World Health Organization</td>\n",
              "      <td>https://covid19.who.int/</td>\n",
              "    </tr>\n",
              "    <tr>\n",
              "      <th>1</th>\n",
              "      <td>Afghanistan</td>\n",
              "      <td>AFG</td>\n",
              "      <td>2021-02-23</td>\n",
              "      <td>NaN</td>\n",
              "      <td>NaN</td>\n",
              "      <td>NaN</td>\n",
              "      <td>NaN</td>\n",
              "      <td>1367.0</td>\n",
              "      <td>NaN</td>\n",
              "      <td>NaN</td>\n",
              "      <td>NaN</td>\n",
              "      <td>34.0</td>\n",
              "      <td>Johnson&amp;Johnson, Oxford/AstraZeneca, Pfizer/Bi...</td>\n",
              "      <td>World Health Organization</td>\n",
              "      <td>https://covid19.who.int/</td>\n",
              "    </tr>\n",
              "    <tr>\n",
              "      <th>2</th>\n",
              "      <td>Afghanistan</td>\n",
              "      <td>AFG</td>\n",
              "      <td>2021-02-24</td>\n",
              "      <td>NaN</td>\n",
              "      <td>NaN</td>\n",
              "      <td>NaN</td>\n",
              "      <td>NaN</td>\n",
              "      <td>1367.0</td>\n",
              "      <td>NaN</td>\n",
              "      <td>NaN</td>\n",
              "      <td>NaN</td>\n",
              "      <td>34.0</td>\n",
              "      <td>Johnson&amp;Johnson, Oxford/AstraZeneca, Pfizer/Bi...</td>\n",
              "      <td>World Health Organization</td>\n",
              "      <td>https://covid19.who.int/</td>\n",
              "    </tr>\n",
              "    <tr>\n",
              "      <th>3</th>\n",
              "      <td>Afghanistan</td>\n",
              "      <td>AFG</td>\n",
              "      <td>2021-02-25</td>\n",
              "      <td>NaN</td>\n",
              "      <td>NaN</td>\n",
              "      <td>NaN</td>\n",
              "      <td>NaN</td>\n",
              "      <td>1367.0</td>\n",
              "      <td>NaN</td>\n",
              "      <td>NaN</td>\n",
              "      <td>NaN</td>\n",
              "      <td>34.0</td>\n",
              "      <td>Johnson&amp;Johnson, Oxford/AstraZeneca, Pfizer/Bi...</td>\n",
              "      <td>World Health Organization</td>\n",
              "      <td>https://covid19.who.int/</td>\n",
              "    </tr>\n",
              "    <tr>\n",
              "      <th>4</th>\n",
              "      <td>Afghanistan</td>\n",
              "      <td>AFG</td>\n",
              "      <td>2021-02-26</td>\n",
              "      <td>NaN</td>\n",
              "      <td>NaN</td>\n",
              "      <td>NaN</td>\n",
              "      <td>NaN</td>\n",
              "      <td>1367.0</td>\n",
              "      <td>NaN</td>\n",
              "      <td>NaN</td>\n",
              "      <td>NaN</td>\n",
              "      <td>34.0</td>\n",
              "      <td>Johnson&amp;Johnson, Oxford/AstraZeneca, Pfizer/Bi...</td>\n",
              "      <td>World Health Organization</td>\n",
              "      <td>https://covid19.who.int/</td>\n",
              "    </tr>\n",
              "  </tbody>\n",
              "</table>\n",
              "</div>"
            ],
            "text/plain": [
              "       country iso_code        date  total_vaccinations  people_vaccinated  \\\n",
              "0  Afghanistan      AFG  2021-02-22                 0.0                0.0   \n",
              "1  Afghanistan      AFG  2021-02-23                 NaN                NaN   \n",
              "2  Afghanistan      AFG  2021-02-24                 NaN                NaN   \n",
              "3  Afghanistan      AFG  2021-02-25                 NaN                NaN   \n",
              "4  Afghanistan      AFG  2021-02-26                 NaN                NaN   \n",
              "\n",
              "   people_fully_vaccinated  daily_vaccinations_raw  daily_vaccinations  \\\n",
              "0                      NaN                     NaN                 NaN   \n",
              "1                      NaN                     NaN              1367.0   \n",
              "2                      NaN                     NaN              1367.0   \n",
              "3                      NaN                     NaN              1367.0   \n",
              "4                      NaN                     NaN              1367.0   \n",
              "\n",
              "   total_vaccinations_per_hundred  people_vaccinated_per_hundred  \\\n",
              "0                             0.0                            0.0   \n",
              "1                             NaN                            NaN   \n",
              "2                             NaN                            NaN   \n",
              "3                             NaN                            NaN   \n",
              "4                             NaN                            NaN   \n",
              "\n",
              "   people_fully_vaccinated_per_hundred  daily_vaccinations_per_million  \\\n",
              "0                                  NaN                             NaN   \n",
              "1                                  NaN                            34.0   \n",
              "2                                  NaN                            34.0   \n",
              "3                                  NaN                            34.0   \n",
              "4                                  NaN                            34.0   \n",
              "\n",
              "                                            vaccines  \\\n",
              "0  Johnson&Johnson, Oxford/AstraZeneca, Pfizer/Bi...   \n",
              "1  Johnson&Johnson, Oxford/AstraZeneca, Pfizer/Bi...   \n",
              "2  Johnson&Johnson, Oxford/AstraZeneca, Pfizer/Bi...   \n",
              "3  Johnson&Johnson, Oxford/AstraZeneca, Pfizer/Bi...   \n",
              "4  Johnson&Johnson, Oxford/AstraZeneca, Pfizer/Bi...   \n",
              "\n",
              "                 source_name            source_website  \n",
              "0  World Health Organization  https://covid19.who.int/  \n",
              "1  World Health Organization  https://covid19.who.int/  \n",
              "2  World Health Organization  https://covid19.who.int/  \n",
              "3  World Health Organization  https://covid19.who.int/  \n",
              "4  World Health Organization  https://covid19.who.int/  "
            ]
          },
          "execution_count": 5,
          "metadata": {},
          "output_type": "execute_result"
        }
      ],
      "source": [
        "dataframe.head(5)"
      ]
    },
    {
      "cell_type": "markdown",
      "id": "3ed9e0cc",
      "metadata": {
        "id": "3ed9e0cc"
      },
      "source": [
        "# Analisando os dados"
      ]
    },
    {
      "cell_type": "code",
      "execution_count": null,
      "id": "649df417",
      "metadata": {
        "id": "649df417",
        "outputId": "7abe247c-a58e-4855-952c-f0212f167226"
      },
      "outputs": [
        {
          "data": {
            "text/html": [
              "<div>\n",
              "<style scoped>\n",
              "    .dataframe tbody tr th:only-of-type {\n",
              "        vertical-align: middle;\n",
              "    }\n",
              "\n",
              "    .dataframe tbody tr th {\n",
              "        vertical-align: top;\n",
              "    }\n",
              "\n",
              "    .dataframe thead th {\n",
              "        text-align: right;\n",
              "    }\n",
              "</style>\n",
              "<table border=\"1\" class=\"dataframe\">\n",
              "  <thead>\n",
              "    <tr style=\"text-align: right;\">\n",
              "      <th></th>\n",
              "      <th>country</th>\n",
              "      <th>iso_code</th>\n",
              "      <th>date</th>\n",
              "      <th>total_vaccinations</th>\n",
              "      <th>people_vaccinated</th>\n",
              "      <th>people_fully_vaccinated</th>\n",
              "      <th>daily_vaccinations_raw</th>\n",
              "      <th>daily_vaccinations</th>\n",
              "      <th>total_vaccinations_per_hundred</th>\n",
              "      <th>people_vaccinated_per_hundred</th>\n",
              "      <th>people_fully_vaccinated_per_hundred</th>\n",
              "      <th>daily_vaccinations_per_million</th>\n",
              "      <th>vaccines</th>\n",
              "      <th>source_name</th>\n",
              "      <th>source_website</th>\n",
              "    </tr>\n",
              "  </thead>\n",
              "  <tbody>\n",
              "    <tr>\n",
              "      <th>11085</th>\n",
              "      <td>Brazil</td>\n",
              "      <td>BRA</td>\n",
              "      <td>2022-03-29</td>\n",
              "      <td>413559595.0</td>\n",
              "      <td>181078067.0</td>\n",
              "      <td>160272858.0</td>\n",
              "      <td>1382570.0</td>\n",
              "      <td>656803.0</td>\n",
              "      <td>193.26</td>\n",
              "      <td>84.62</td>\n",
              "      <td>74.90</td>\n",
              "      <td>3069.0</td>\n",
              "      <td>Johnson&amp;Johnson, Oxford/AstraZeneca, Pfizer/Bi...</td>\n",
              "      <td>State governments via coronavirusbra1.github.io</td>\n",
              "      <td>https://coronavirusbra1.github.io</td>\n",
              "    </tr>\n",
              "    <tr>\n",
              "      <th>11084</th>\n",
              "      <td>Brazil</td>\n",
              "      <td>BRA</td>\n",
              "      <td>2022-03-28</td>\n",
              "      <td>412177025.0</td>\n",
              "      <td>180881628.0</td>\n",
              "      <td>160008924.0</td>\n",
              "      <td>628823.0</td>\n",
              "      <td>546999.0</td>\n",
              "      <td>192.61</td>\n",
              "      <td>84.53</td>\n",
              "      <td>74.77</td>\n",
              "      <td>2556.0</td>\n",
              "      <td>Johnson&amp;Johnson, Oxford/AstraZeneca, Pfizer/Bi...</td>\n",
              "      <td>State governments via coronavirusbra1.github.io</td>\n",
              "      <td>https://coronavirusbra1.github.io</td>\n",
              "    </tr>\n",
              "    <tr>\n",
              "      <th>11083</th>\n",
              "      <td>Brazil</td>\n",
              "      <td>BRA</td>\n",
              "      <td>2022-03-27</td>\n",
              "      <td>411548202.0</td>\n",
              "      <td>180800024.0</td>\n",
              "      <td>159842858.0</td>\n",
              "      <td>432005.0</td>\n",
              "      <td>587488.0</td>\n",
              "      <td>192.32</td>\n",
              "      <td>84.49</td>\n",
              "      <td>74.70</td>\n",
              "      <td>2745.0</td>\n",
              "      <td>Johnson&amp;Johnson, Oxford/AstraZeneca, Pfizer/Bi...</td>\n",
              "      <td>State governments via coronavirusbra1.github.io</td>\n",
              "      <td>https://coronavirusbra1.github.io</td>\n",
              "    </tr>\n",
              "    <tr>\n",
              "      <th>11082</th>\n",
              "      <td>Brazil</td>\n",
              "      <td>BRA</td>\n",
              "      <td>2022-03-26</td>\n",
              "      <td>411116197.0</td>\n",
              "      <td>180757995.0</td>\n",
              "      <td>159756178.0</td>\n",
              "      <td>255556.0</td>\n",
              "      <td>548819.0</td>\n",
              "      <td>192.12</td>\n",
              "      <td>84.47</td>\n",
              "      <td>74.65</td>\n",
              "      <td>2565.0</td>\n",
              "      <td>Johnson&amp;Johnson, Oxford/AstraZeneca, Pfizer/Bi...</td>\n",
              "      <td>State governments via coronavirusbra1.github.io</td>\n",
              "      <td>https://coronavirusbra1.github.io</td>\n",
              "    </tr>\n",
              "    <tr>\n",
              "      <th>11081</th>\n",
              "      <td>Brazil</td>\n",
              "      <td>BRA</td>\n",
              "      <td>2022-03-25</td>\n",
              "      <td>410860641.0</td>\n",
              "      <td>180726798.0</td>\n",
              "      <td>159673499.0</td>\n",
              "      <td>684805.0</td>\n",
              "      <td>596456.0</td>\n",
              "      <td>192.00</td>\n",
              "      <td>84.45</td>\n",
              "      <td>74.62</td>\n",
              "      <td>2787.0</td>\n",
              "      <td>Johnson&amp;Johnson, Oxford/AstraZeneca, Pfizer/Bi...</td>\n",
              "      <td>State governments via coronavirusbra1.github.io</td>\n",
              "      <td>https://coronavirusbra1.github.io</td>\n",
              "    </tr>\n",
              "  </tbody>\n",
              "</table>\n",
              "</div>"
            ],
            "text/plain": [
              "      country iso_code        date  total_vaccinations  people_vaccinated  \\\n",
              "11085  Brazil      BRA  2022-03-29         413559595.0        181078067.0   \n",
              "11084  Brazil      BRA  2022-03-28         412177025.0        180881628.0   \n",
              "11083  Brazil      BRA  2022-03-27         411548202.0        180800024.0   \n",
              "11082  Brazil      BRA  2022-03-26         411116197.0        180757995.0   \n",
              "11081  Brazil      BRA  2022-03-25         410860641.0        180726798.0   \n",
              "\n",
              "       people_fully_vaccinated  daily_vaccinations_raw  daily_vaccinations  \\\n",
              "11085              160272858.0               1382570.0            656803.0   \n",
              "11084              160008924.0                628823.0            546999.0   \n",
              "11083              159842858.0                432005.0            587488.0   \n",
              "11082              159756178.0                255556.0            548819.0   \n",
              "11081              159673499.0                684805.0            596456.0   \n",
              "\n",
              "       total_vaccinations_per_hundred  people_vaccinated_per_hundred  \\\n",
              "11085                          193.26                          84.62   \n",
              "11084                          192.61                          84.53   \n",
              "11083                          192.32                          84.49   \n",
              "11082                          192.12                          84.47   \n",
              "11081                          192.00                          84.45   \n",
              "\n",
              "       people_fully_vaccinated_per_hundred  daily_vaccinations_per_million  \\\n",
              "11085                                74.90                          3069.0   \n",
              "11084                                74.77                          2556.0   \n",
              "11083                                74.70                          2745.0   \n",
              "11082                                74.65                          2565.0   \n",
              "11081                                74.62                          2787.0   \n",
              "\n",
              "                                                vaccines  \\\n",
              "11085  Johnson&Johnson, Oxford/AstraZeneca, Pfizer/Bi...   \n",
              "11084  Johnson&Johnson, Oxford/AstraZeneca, Pfizer/Bi...   \n",
              "11083  Johnson&Johnson, Oxford/AstraZeneca, Pfizer/Bi...   \n",
              "11082  Johnson&Johnson, Oxford/AstraZeneca, Pfizer/Bi...   \n",
              "11081  Johnson&Johnson, Oxford/AstraZeneca, Pfizer/Bi...   \n",
              "\n",
              "                                           source_name  \\\n",
              "11085  State governments via coronavirusbra1.github.io   \n",
              "11084  State governments via coronavirusbra1.github.io   \n",
              "11083  State governments via coronavirusbra1.github.io   \n",
              "11082  State governments via coronavirusbra1.github.io   \n",
              "11081  State governments via coronavirusbra1.github.io   \n",
              "\n",
              "                          source_website  \n",
              "11085  https://coronavirusbra1.github.io  \n",
              "11084  https://coronavirusbra1.github.io  \n",
              "11083  https://coronavirusbra1.github.io  \n",
              "11082  https://coronavirusbra1.github.io  \n",
              "11081  https://coronavirusbra1.github.io  "
            ]
          },
          "execution_count": 6,
          "metadata": {},
          "output_type": "execute_result"
        }
      ],
      "source": [
        "#dados referente ao Brasil\n",
        "dataframe.query('country == \"Brazil\"').sort_values('date', ascending=False)[:5]"
      ]
    },
    {
      "cell_type": "code",
      "execution_count": null,
      "id": "e4d17621",
      "metadata": {
        "id": "e4d17621",
        "outputId": "0679d1ef-96da-4551-aa2c-e4d43477c6f2"
      },
      "outputs": [
        {
          "data": {
            "text/plain": [
              "223"
            ]
          },
          "execution_count": 7,
          "metadata": {},
          "output_type": "execute_result"
        }
      ],
      "source": [
        "# numero de paises distintos na base\n",
        "dataframe['country'].nunique()"
      ]
    },
    {
      "cell_type": "markdown",
      "id": "a4b80ed2",
      "metadata": {
        "id": "a4b80ed2"
      },
      "source": [
        "# Qual o país com maior número de pessoas imunizadas ?"
      ]
    },
    {
      "cell_type": "code",
      "execution_count": null,
      "id": "6b3e114a",
      "metadata": {
        "id": "6b3e114a",
        "outputId": "93ff76ec-1061-43f3-c610-000d03457b05"
      },
      "outputs": [
        {
          "data": {
            "text/plain": [
              "'2022-03-29'"
            ]
          },
          "execution_count": 8,
          "metadata": {},
          "output_type": "execute_result"
        }
      ],
      "source": [
        "# identificando a data mais recente da coleta\n",
        "ultima_data = dataframe['date'].max()\n",
        "ultima_data"
      ]
    },
    {
      "cell_type": "code",
      "execution_count": null,
      "id": "455f9d7e",
      "metadata": {
        "id": "455f9d7e"
      },
      "outputs": [],
      "source": [
        "# filtrando a última data\n",
        "ultima_data = dataframe[dataframe.date == ultima_data]"
      ]
    },
    {
      "cell_type": "code",
      "execution_count": null,
      "id": "dd98414d",
      "metadata": {
        "id": "dd98414d",
        "outputId": "b8990d0d-cd6c-4025-ac20-c6fcbbbb3f63"
      },
      "outputs": [
        {
          "data": {
            "text/plain": [
              "(54, 15)"
            ]
          },
          "execution_count": 10,
          "metadata": {},
          "output_type": "execute_result"
        }
      ],
      "source": [
        "# quantidade de linhas e colunas dentro do dataset\n",
        "ultima_data.shape"
      ]
    },
    {
      "cell_type": "markdown",
      "id": "2805d1e8",
      "metadata": {
        "id": "2805d1e8"
      },
      "source": [
        "# Atenção\n",
        "Como temos 223 paíes e quando buscamos a data mais recente, só aparecem 54, teremos que fazer outro tipo de filtro no dataset, pois, acabaremos excluindo dados de ourtos países."
      ]
    },
    {
      "cell_type": "code",
      "execution_count": null,
      "id": "a7bc7e0d",
      "metadata": {
        "id": "a7bc7e0d",
        "outputId": "a05def1a-fa27-45f9-8df0-683549791e76"
      },
      "outputs": [
        {
          "data": {
            "text/plain": [
              "country\n",
              "Lebanon                            2022-03-29\n",
              "Lithuania                          2022-03-29\n",
              "Kosovo                             2022-03-29\n",
              "Kazakhstan                         2022-03-29\n",
              "Japan                              2022-03-29\n",
              "                                      ...    \n",
              "Pitcairn                           2021-09-07\n",
              "Turkmenistan                       2021-09-05\n",
              "Bonaire Sint Eustatius and Saba    2021-09-01\n",
              "Saint Helena                       2021-05-05\n",
              "Falkland Islands                   2021-04-14\n",
              "Name: date, Length: 223, dtype: object"
            ]
          },
          "execution_count": 11,
          "metadata": {},
          "output_type": "execute_result"
        }
      ],
      "source": [
        "dataframe.groupby('country')['date'].max().sort_values(ascending=False)"
      ]
    },
    {
      "cell_type": "code",
      "execution_count": null,
      "id": "20d81f78",
      "metadata": {
        "id": "20d81f78",
        "outputId": "3d96a8ab-5501-4030-c69f-597b4cfd9487"
      },
      "outputs": [
        {
          "data": {
            "text/plain": [
              "country\n",
              "China               3.263129e+09\n",
              "India               1.834501e+09\n",
              "United States       5.601818e+08\n",
              "Brazil              4.135596e+08\n",
              "Indonesia           3.771089e+08\n",
              "                        ...     \n",
              "Falkland Islands    4.407000e+03\n",
              "Montserrat          4.211000e+03\n",
              "Niue                4.161000e+03\n",
              "Tokelau             1.936000e+03\n",
              "Pitcairn            9.400000e+01\n",
              "Name: total_vaccinations, Length: 223, dtype: float64"
            ]
          },
          "execution_count": 12,
          "metadata": {},
          "output_type": "execute_result"
        }
      ],
      "source": [
        "dataframe.groupby('country')['total_vaccinations'].max().sort_values(ascending=False)"
      ]
    },
    {
      "cell_type": "markdown",
      "id": "4dfddc0d",
      "metadata": {
        "id": "4dfddc0d"
      },
      "source": [
        "# Top 10 paises"
      ]
    },
    {
      "cell_type": "code",
      "execution_count": null,
      "id": "ab8ad5bb",
      "metadata": {
        "id": "ab8ad5bb",
        "outputId": "ea6d98c7-23a6-4c63-9eb9-b896e16b20eb"
      },
      "outputs": [
        {
          "data": {
            "text/plain": [
              "country\n",
              "China               3.263129e+09\n",
              "India               1.834501e+09\n",
              "United States       5.601818e+08\n",
              "Brazil              4.135596e+08\n",
              "Indonesia           3.771089e+08\n",
              "                        ...     \n",
              "Falkland Islands    4.407000e+03\n",
              "Montserrat          4.211000e+03\n",
              "Niue                4.161000e+03\n",
              "Tokelau             1.936000e+03\n",
              "Pitcairn            9.400000e+01\n",
              "Name: total_vaccinations, Length: 223, dtype: float64"
            ]
          },
          "execution_count": 14,
          "metadata": {},
          "output_type": "execute_result"
        }
      ],
      "source": [
        "imunizados_por_pais = dataframe.groupby('country')['total_vaccinations'].max().sort_values(ascending=False)\n",
        "imunizados_por_pais"
      ]
    },
    {
      "cell_type": "code",
      "execution_count": null,
      "id": "a27919ad",
      "metadata": {
        "id": "a27919ad",
        "outputId": "ef32f70c-a50b-426d-fdd3-da8826e1958b"
      },
      "outputs": [
        {
          "data": {
            "text/plain": [
              "pandas.core.series.Series"
            ]
          },
          "execution_count": 15,
          "metadata": {},
          "output_type": "execute_result"
        }
      ],
      "source": [
        "type(imunizados_por_pais)"
      ]
    },
    {
      "cell_type": "code",
      "execution_count": null,
      "id": "545a7649",
      "metadata": {
        "id": "545a7649",
        "outputId": "8b1bbbd3-d3a1-4a56-ff76-375bee7e8be3"
      },
      "outputs": [
        {
          "data": {
            "text/html": [
              "<div>\n",
              "<style scoped>\n",
              "    .dataframe tbody tr th:only-of-type {\n",
              "        vertical-align: middle;\n",
              "    }\n",
              "\n",
              "    .dataframe tbody tr th {\n",
              "        vertical-align: top;\n",
              "    }\n",
              "\n",
              "    .dataframe thead th {\n",
              "        text-align: right;\n",
              "    }\n",
              "</style>\n",
              "<table border=\"1\" class=\"dataframe\">\n",
              "  <thead>\n",
              "    <tr style=\"text-align: right;\">\n",
              "      <th></th>\n",
              "      <th>country</th>\n",
              "      <th>total_vaccinations</th>\n",
              "    </tr>\n",
              "  </thead>\n",
              "  <tbody>\n",
              "    <tr>\n",
              "      <th>0</th>\n",
              "      <td>China</td>\n",
              "      <td>3.263129e+09</td>\n",
              "    </tr>\n",
              "    <tr>\n",
              "      <th>1</th>\n",
              "      <td>India</td>\n",
              "      <td>1.834501e+09</td>\n",
              "    </tr>\n",
              "    <tr>\n",
              "      <th>2</th>\n",
              "      <td>United States</td>\n",
              "      <td>5.601818e+08</td>\n",
              "    </tr>\n",
              "    <tr>\n",
              "      <th>3</th>\n",
              "      <td>Brazil</td>\n",
              "      <td>4.135596e+08</td>\n",
              "    </tr>\n",
              "    <tr>\n",
              "      <th>4</th>\n",
              "      <td>Indonesia</td>\n",
              "      <td>3.771089e+08</td>\n",
              "    </tr>\n",
              "    <tr>\n",
              "      <th>...</th>\n",
              "      <td>...</td>\n",
              "      <td>...</td>\n",
              "    </tr>\n",
              "    <tr>\n",
              "      <th>218</th>\n",
              "      <td>Falkland Islands</td>\n",
              "      <td>4.407000e+03</td>\n",
              "    </tr>\n",
              "    <tr>\n",
              "      <th>219</th>\n",
              "      <td>Montserrat</td>\n",
              "      <td>4.211000e+03</td>\n",
              "    </tr>\n",
              "    <tr>\n",
              "      <th>220</th>\n",
              "      <td>Niue</td>\n",
              "      <td>4.161000e+03</td>\n",
              "    </tr>\n",
              "    <tr>\n",
              "      <th>221</th>\n",
              "      <td>Tokelau</td>\n",
              "      <td>1.936000e+03</td>\n",
              "    </tr>\n",
              "    <tr>\n",
              "      <th>222</th>\n",
              "      <td>Pitcairn</td>\n",
              "      <td>9.400000e+01</td>\n",
              "    </tr>\n",
              "  </tbody>\n",
              "</table>\n",
              "<p>223 rows × 2 columns</p>\n",
              "</div>"
            ],
            "text/plain": [
              "              country  total_vaccinations\n",
              "0               China        3.263129e+09\n",
              "1               India        1.834501e+09\n",
              "2       United States        5.601818e+08\n",
              "3              Brazil        4.135596e+08\n",
              "4           Indonesia        3.771089e+08\n",
              "..                ...                 ...\n",
              "218  Falkland Islands        4.407000e+03\n",
              "219        Montserrat        4.211000e+03\n",
              "220              Niue        4.161000e+03\n",
              "221           Tokelau        1.936000e+03\n",
              "222          Pitcairn        9.400000e+01\n",
              "\n",
              "[223 rows x 2 columns]"
            ]
          },
          "execution_count": 17,
          "metadata": {},
          "output_type": "execute_result"
        }
      ],
      "source": [
        "imunizados = imunizados_por_pais.to_frame().reset_index()\n",
        "imunizados"
      ]
    },
    {
      "cell_type": "code",
      "execution_count": null,
      "id": "1f9f3131",
      "metadata": {
        "id": "1f9f3131",
        "outputId": "02736b2b-70b9-4226-b7ec-6f640934775f"
      },
      "outputs": [
        {
          "data": {
            "text/html": [
              "<div>\n",
              "<style scoped>\n",
              "    .dataframe tbody tr th:only-of-type {\n",
              "        vertical-align: middle;\n",
              "    }\n",
              "\n",
              "    .dataframe tbody tr th {\n",
              "        vertical-align: top;\n",
              "    }\n",
              "\n",
              "    .dataframe thead th {\n",
              "        text-align: right;\n",
              "    }\n",
              "</style>\n",
              "<table border=\"1\" class=\"dataframe\">\n",
              "  <thead>\n",
              "    <tr style=\"text-align: right;\">\n",
              "      <th></th>\n",
              "      <th>country</th>\n",
              "      <th>total_vaccinations</th>\n",
              "    </tr>\n",
              "  </thead>\n",
              "  <tbody>\n",
              "    <tr>\n",
              "      <th>0</th>\n",
              "      <td>China</td>\n",
              "      <td>3.263129e+09</td>\n",
              "    </tr>\n",
              "    <tr>\n",
              "      <th>1</th>\n",
              "      <td>India</td>\n",
              "      <td>1.834501e+09</td>\n",
              "    </tr>\n",
              "    <tr>\n",
              "      <th>2</th>\n",
              "      <td>United States</td>\n",
              "      <td>5.601818e+08</td>\n",
              "    </tr>\n",
              "    <tr>\n",
              "      <th>3</th>\n",
              "      <td>Brazil</td>\n",
              "      <td>4.135596e+08</td>\n",
              "    </tr>\n",
              "    <tr>\n",
              "      <th>4</th>\n",
              "      <td>Indonesia</td>\n",
              "      <td>3.771089e+08</td>\n",
              "    </tr>\n",
              "    <tr>\n",
              "      <th>5</th>\n",
              "      <td>Japan</td>\n",
              "      <td>2.543456e+08</td>\n",
              "    </tr>\n",
              "    <tr>\n",
              "      <th>6</th>\n",
              "      <td>Bangladesh</td>\n",
              "      <td>2.436427e+08</td>\n",
              "    </tr>\n",
              "    <tr>\n",
              "      <th>7</th>\n",
              "      <td>Pakistan</td>\n",
              "      <td>2.193686e+08</td>\n",
              "    </tr>\n",
              "    <tr>\n",
              "      <th>8</th>\n",
              "      <td>Vietnam</td>\n",
              "      <td>2.031444e+08</td>\n",
              "    </tr>\n",
              "    <tr>\n",
              "      <th>9</th>\n",
              "      <td>Mexico</td>\n",
              "      <td>1.919079e+08</td>\n",
              "    </tr>\n",
              "  </tbody>\n",
              "</table>\n",
              "</div>"
            ],
            "text/plain": [
              "         country  total_vaccinations\n",
              "0          China        3.263129e+09\n",
              "1          India        1.834501e+09\n",
              "2  United States        5.601818e+08\n",
              "3         Brazil        4.135596e+08\n",
              "4      Indonesia        3.771089e+08\n",
              "5          Japan        2.543456e+08\n",
              "6     Bangladesh        2.436427e+08\n",
              "7       Pakistan        2.193686e+08\n",
              "8        Vietnam        2.031444e+08\n",
              "9         Mexico        1.919079e+08"
            ]
          },
          "execution_count": 19,
          "metadata": {},
          "output_type": "execute_result"
        }
      ],
      "source": [
        "imunizados.sort_values('total_vaccinations', ascending=False).head(10)"
      ]
    },
    {
      "cell_type": "markdown",
      "id": "1c27bcf1",
      "metadata": {
        "id": "1c27bcf1"
      },
      "source": [
        "# Qual vacina é mais usada no mundo ?"
      ]
    },
    {
      "cell_type": "code",
      "execution_count": null,
      "id": "6c8c37dc",
      "metadata": {
        "id": "6c8c37dc",
        "outputId": "210cc6ec-a121-43b0-de7e-66327ed6978f"
      },
      "outputs": [
        {
          "data": {
            "text/html": [
              "<div>\n",
              "<style scoped>\n",
              "    .dataframe tbody tr th:only-of-type {\n",
              "        vertical-align: middle;\n",
              "    }\n",
              "\n",
              "    .dataframe tbody tr th {\n",
              "        vertical-align: top;\n",
              "    }\n",
              "\n",
              "    .dataframe thead th {\n",
              "        text-align: right;\n",
              "    }\n",
              "</style>\n",
              "<table border=\"1\" class=\"dataframe\">\n",
              "  <thead>\n",
              "    <tr style=\"text-align: right;\">\n",
              "      <th></th>\n",
              "      <th>country</th>\n",
              "      <th>date</th>\n",
              "      <th>vaccines</th>\n",
              "    </tr>\n",
              "  </thead>\n",
              "  <tbody>\n",
              "    <tr>\n",
              "      <th>0</th>\n",
              "      <td>Afghanistan</td>\n",
              "      <td>2021-02-22</td>\n",
              "      <td>Johnson&amp;Johnson, Oxford/AstraZeneca, Pfizer/Bi...</td>\n",
              "    </tr>\n",
              "    <tr>\n",
              "      <th>1</th>\n",
              "      <td>Afghanistan</td>\n",
              "      <td>2021-02-23</td>\n",
              "      <td>Johnson&amp;Johnson, Oxford/AstraZeneca, Pfizer/Bi...</td>\n",
              "    </tr>\n",
              "    <tr>\n",
              "      <th>2</th>\n",
              "      <td>Afghanistan</td>\n",
              "      <td>2021-02-24</td>\n",
              "      <td>Johnson&amp;Johnson, Oxford/AstraZeneca, Pfizer/Bi...</td>\n",
              "    </tr>\n",
              "    <tr>\n",
              "      <th>3</th>\n",
              "      <td>Afghanistan</td>\n",
              "      <td>2021-02-25</td>\n",
              "      <td>Johnson&amp;Johnson, Oxford/AstraZeneca, Pfizer/Bi...</td>\n",
              "    </tr>\n",
              "    <tr>\n",
              "      <th>4</th>\n",
              "      <td>Afghanistan</td>\n",
              "      <td>2021-02-26</td>\n",
              "      <td>Johnson&amp;Johnson, Oxford/AstraZeneca, Pfizer/Bi...</td>\n",
              "    </tr>\n",
              "    <tr>\n",
              "      <th>...</th>\n",
              "      <td>...</td>\n",
              "      <td>...</td>\n",
              "      <td>...</td>\n",
              "    </tr>\n",
              "    <tr>\n",
              "      <th>86507</th>\n",
              "      <td>Zimbabwe</td>\n",
              "      <td>2022-03-25</td>\n",
              "      <td>Oxford/AstraZeneca, Sinopharm/Beijing, Sinovac...</td>\n",
              "    </tr>\n",
              "    <tr>\n",
              "      <th>86508</th>\n",
              "      <td>Zimbabwe</td>\n",
              "      <td>2022-03-26</td>\n",
              "      <td>Oxford/AstraZeneca, Sinopharm/Beijing, Sinovac...</td>\n",
              "    </tr>\n",
              "    <tr>\n",
              "      <th>86509</th>\n",
              "      <td>Zimbabwe</td>\n",
              "      <td>2022-03-27</td>\n",
              "      <td>Oxford/AstraZeneca, Sinopharm/Beijing, Sinovac...</td>\n",
              "    </tr>\n",
              "    <tr>\n",
              "      <th>86510</th>\n",
              "      <td>Zimbabwe</td>\n",
              "      <td>2022-03-28</td>\n",
              "      <td>Oxford/AstraZeneca, Sinopharm/Beijing, Sinovac...</td>\n",
              "    </tr>\n",
              "    <tr>\n",
              "      <th>86511</th>\n",
              "      <td>Zimbabwe</td>\n",
              "      <td>2022-03-29</td>\n",
              "      <td>Oxford/AstraZeneca, Sinopharm/Beijing, Sinovac...</td>\n",
              "    </tr>\n",
              "  </tbody>\n",
              "</table>\n",
              "<p>86512 rows × 3 columns</p>\n",
              "</div>"
            ],
            "text/plain": [
              "           country        date  \\\n",
              "0      Afghanistan  2021-02-22   \n",
              "1      Afghanistan  2021-02-23   \n",
              "2      Afghanistan  2021-02-24   \n",
              "3      Afghanistan  2021-02-25   \n",
              "4      Afghanistan  2021-02-26   \n",
              "...            ...         ...   \n",
              "86507     Zimbabwe  2022-03-25   \n",
              "86508     Zimbabwe  2022-03-26   \n",
              "86509     Zimbabwe  2022-03-27   \n",
              "86510     Zimbabwe  2022-03-28   \n",
              "86511     Zimbabwe  2022-03-29   \n",
              "\n",
              "                                                vaccines  \n",
              "0      Johnson&Johnson, Oxford/AstraZeneca, Pfizer/Bi...  \n",
              "1      Johnson&Johnson, Oxford/AstraZeneca, Pfizer/Bi...  \n",
              "2      Johnson&Johnson, Oxford/AstraZeneca, Pfizer/Bi...  \n",
              "3      Johnson&Johnson, Oxford/AstraZeneca, Pfizer/Bi...  \n",
              "4      Johnson&Johnson, Oxford/AstraZeneca, Pfizer/Bi...  \n",
              "...                                                  ...  \n",
              "86507  Oxford/AstraZeneca, Sinopharm/Beijing, Sinovac...  \n",
              "86508  Oxford/AstraZeneca, Sinopharm/Beijing, Sinovac...  \n",
              "86509  Oxford/AstraZeneca, Sinopharm/Beijing, Sinovac...  \n",
              "86510  Oxford/AstraZeneca, Sinopharm/Beijing, Sinovac...  \n",
              "86511  Oxford/AstraZeneca, Sinopharm/Beijing, Sinovac...  \n",
              "\n",
              "[86512 rows x 3 columns]"
            ]
          },
          "execution_count": 20,
          "metadata": {},
          "output_type": "execute_result"
        }
      ],
      "source": [
        "vacinas_por_pais = dataframe[['country', 'date', 'vaccines']]\n",
        "vacinas_por_pais"
      ]
    },
    {
      "cell_type": "markdown",
      "id": "3aaa1202",
      "metadata": {
        "id": "3aaa1202"
      },
      "source": [
        "Agrupar por vacina para descobrir quais vacinas são mais usadas em cada país"
      ]
    },
    {
      "cell_type": "code",
      "execution_count": null,
      "id": "1dd73604",
      "metadata": {
        "id": "1dd73604",
        "outputId": "43dc1435-f352-4976-8010-282bf95d3dbc"
      },
      "outputs": [
        {
          "data": {
            "text/plain": [
              "vaccines\n",
              "Oxford/AstraZeneca                                                                                    20\n",
              "Johnson&Johnson, Moderna, Oxford/AstraZeneca, Pfizer/BioNTech                                         17\n",
              "Moderna, Oxford/AstraZeneca, Pfizer/BioNTech                                                          15\n",
              "Oxford/AstraZeneca, Pfizer/BioNTech                                                                   11\n",
              "Johnson&Johnson, Moderna, Novavax, Oxford/AstraZeneca, Pfizer/BioNTech                                 8\n",
              "                                                                                                      ..\n",
              "Moderna, Oxford/AstraZeneca, Pfizer/BioNTech, Sinopharm/Beijing, Sinovac                               1\n",
              "Moderna, Oxford/AstraZeneca, Pfizer/BioNTech, Sinovac, Sputnik Light, Sputnik V, ZF2001                1\n",
              "Moderna, Oxford/AstraZeneca, Pfizer/BioNTech, Sinovac, Sputnik V                                       1\n",
              "Moderna, Oxford/AstraZeneca, Pfizer/BioNTech, Sputnik V                                                1\n",
              "Abdala, Johnson&Johnson, Oxford/AstraZeneca, Pfizer/BioNTech, Soberana02, Sputnik Light, Sputnik V     1\n",
              "Name: country, Length: 84, dtype: int64"
            ]
          },
          "execution_count": 21,
          "metadata": {},
          "output_type": "execute_result"
        }
      ],
      "source": [
        "vacinas_por_pais.groupby('vaccines')['country'].nunique().sort_values(ascending=False)"
      ]
    },
    {
      "cell_type": "code",
      "execution_count": null,
      "id": "bdcdeccc",
      "metadata": {
        "id": "bdcdeccc"
      },
      "outputs": [],
      "source": [
        "vacinas_pais = dataframe.groupby('country')['vaccines'].unique()\n",
        "vacinas_pais = vacinas_pais.to_frame().reset_index()"
      ]
    },
    {
      "cell_type": "markdown",
      "id": "6e1874b4",
      "metadata": {
        "id": "6e1874b4"
      },
      "source": [
        "# Qual o país possui o maior número de vacinados por dia ?"
      ]
    },
    {
      "cell_type": "code",
      "execution_count": null,
      "id": "4aa9e73a",
      "metadata": {
        "id": "4aa9e73a",
        "outputId": "6aea21ce-a3c4-4f0f-a734-87c33f654519"
      },
      "outputs": [
        {
          "data": {
            "text/plain": [
              "country\n",
              "China            22424286.0\n",
              "India            10037995.0\n",
              "Bangladesh        3758404.0\n",
              "United States     3506960.0\n",
              "Pakistan          2175773.0\n",
              "                    ...    \n",
              "Saint Helena          165.0\n",
              "Niue                   87.0\n",
              "Montserrat             53.0\n",
              "Tokelau                23.0\n",
              "Pitcairn                1.0\n",
              "Name: daily_vaccinations, Length: 223, dtype: float64"
            ]
          },
          "execution_count": 25,
          "metadata": {},
          "output_type": "execute_result"
        }
      ],
      "source": [
        "dataframe.groupby('country')['daily_vaccinations'].max().sort_values(ascending=False)"
      ]
    },
    {
      "cell_type": "markdown",
      "id": "5260b2a6",
      "metadata": {
        "id": "5260b2a6"
      },
      "source": [
        "# Qual a média de vacinação por país"
      ]
    },
    {
      "cell_type": "code",
      "execution_count": null,
      "id": "4d30bdc2",
      "metadata": {
        "id": "4d30bdc2",
        "outputId": "c888cfc2-29c8-4474-d09e-2404d896c8b3"
      },
      "outputs": [
        {
          "data": {
            "text/html": [
              "<div>\n",
              "<style scoped>\n",
              "    .dataframe tbody tr th:only-of-type {\n",
              "        vertical-align: middle;\n",
              "    }\n",
              "\n",
              "    .dataframe tbody tr th {\n",
              "        vertical-align: top;\n",
              "    }\n",
              "\n",
              "    .dataframe thead th {\n",
              "        text-align: right;\n",
              "    }\n",
              "</style>\n",
              "<table border=\"1\" class=\"dataframe\">\n",
              "  <thead>\n",
              "    <tr style=\"text-align: right;\">\n",
              "      <th></th>\n",
              "      <th>country</th>\n",
              "      <th>daily_vaccinations</th>\n",
              "    </tr>\n",
              "  </thead>\n",
              "  <tbody>\n",
              "    <tr>\n",
              "      <th>0</th>\n",
              "      <td>China</td>\n",
              "      <td>6.930368e+06</td>\n",
              "    </tr>\n",
              "    <tr>\n",
              "      <th>1</th>\n",
              "      <td>India</td>\n",
              "      <td>4.175994e+06</td>\n",
              "    </tr>\n",
              "    <tr>\n",
              "      <th>2</th>\n",
              "      <td>United States</td>\n",
              "      <td>1.191727e+06</td>\n",
              "    </tr>\n",
              "    <tr>\n",
              "      <th>3</th>\n",
              "      <td>Brazil</td>\n",
              "      <td>9.435287e+05</td>\n",
              "    </tr>\n",
              "    <tr>\n",
              "      <th>4</th>\n",
              "      <td>Indonesia</td>\n",
              "      <td>8.462893e+05</td>\n",
              "    </tr>\n",
              "    <tr>\n",
              "      <th>...</th>\n",
              "      <td>...</td>\n",
              "      <td>...</td>\n",
              "    </tr>\n",
              "    <tr>\n",
              "      <th>218</th>\n",
              "      <td>Wallis and Futuna</td>\n",
              "      <td>3.388649e+01</td>\n",
              "    </tr>\n",
              "    <tr>\n",
              "      <th>219</th>\n",
              "      <td>Tokelau</td>\n",
              "      <td>1.739823e+01</td>\n",
              "    </tr>\n",
              "    <tr>\n",
              "      <th>220</th>\n",
              "      <td>Niue</td>\n",
              "      <td>1.631698e+01</td>\n",
              "    </tr>\n",
              "    <tr>\n",
              "      <th>221</th>\n",
              "      <td>Montserrat</td>\n",
              "      <td>1.053659e+01</td>\n",
              "    </tr>\n",
              "    <tr>\n",
              "      <th>222</th>\n",
              "      <td>Pitcairn</td>\n",
              "      <td>5.119048e-01</td>\n",
              "    </tr>\n",
              "  </tbody>\n",
              "</table>\n",
              "<p>223 rows × 2 columns</p>\n",
              "</div>"
            ],
            "text/plain": [
              "               country  daily_vaccinations\n",
              "0                China        6.930368e+06\n",
              "1                India        4.175994e+06\n",
              "2        United States        1.191727e+06\n",
              "3               Brazil        9.435287e+05\n",
              "4            Indonesia        8.462893e+05\n",
              "..                 ...                 ...\n",
              "218  Wallis and Futuna        3.388649e+01\n",
              "219            Tokelau        1.739823e+01\n",
              "220               Niue        1.631698e+01\n",
              "221         Montserrat        1.053659e+01\n",
              "222           Pitcairn        5.119048e-01\n",
              "\n",
              "[223 rows x 2 columns]"
            ]
          },
          "execution_count": 27,
          "metadata": {},
          "output_type": "execute_result"
        }
      ],
      "source": [
        "media_pais = dataframe.groupby('country')['daily_vaccinations'].mean().sort_values(ascending=False)\n",
        "media_pais = media_pais.to_frame().reset_index()\n",
        "media_pais"
      ]
    },
    {
      "cell_type": "markdown",
      "id": "bceb0802",
      "metadata": {
        "id": "bceb0802"
      },
      "source": [
        "dataframes criados\n",
        "\n",
        "1.Imunizados\n",
        "\n",
        "2.Vacinas_por_pais\n",
        "\n",
        "3.media_pais\n",
        "\n",
        "Com base nos dataframes criados vamos criar uma nova base de dados utilizando os dados que tratamos anteriormente"
      ]
    },
    {
      "cell_type": "code",
      "execution_count": null,
      "id": "e1791f42",
      "metadata": {
        "id": "e1791f42"
      },
      "outputs": [],
      "source": [
        "# Renomeando novas colunas das datas\n",
        "# vamos inicar alterando o nome de algumas colunas\n",
        "\n",
        "media_pais = media_pais.rename(columns={'country' : 'pais', 'daily_vaccinations' : 'media_vacinacao'})"
      ]
    },
    {
      "cell_type": "code",
      "execution_count": null,
      "id": "d4963473",
      "metadata": {
        "id": "d4963473",
        "outputId": "8f4ed126-7ba1-4deb-f660-b97ea28e7b6f"
      },
      "outputs": [
        {
          "data": {
            "text/html": [
              "<div>\n",
              "<style scoped>\n",
              "    .dataframe tbody tr th:only-of-type {\n",
              "        vertical-align: middle;\n",
              "    }\n",
              "\n",
              "    .dataframe tbody tr th {\n",
              "        vertical-align: top;\n",
              "    }\n",
              "\n",
              "    .dataframe thead th {\n",
              "        text-align: right;\n",
              "    }\n",
              "</style>\n",
              "<table border=\"1\" class=\"dataframe\">\n",
              "  <thead>\n",
              "    <tr style=\"text-align: right;\">\n",
              "      <th></th>\n",
              "      <th>pais</th>\n",
              "      <th>media_vacinacao</th>\n",
              "    </tr>\n",
              "  </thead>\n",
              "  <tbody>\n",
              "    <tr>\n",
              "      <th>0</th>\n",
              "      <td>China</td>\n",
              "      <td>6.930368e+06</td>\n",
              "    </tr>\n",
              "    <tr>\n",
              "      <th>1</th>\n",
              "      <td>India</td>\n",
              "      <td>4.175994e+06</td>\n",
              "    </tr>\n",
              "    <tr>\n",
              "      <th>2</th>\n",
              "      <td>United States</td>\n",
              "      <td>1.191727e+06</td>\n",
              "    </tr>\n",
              "    <tr>\n",
              "      <th>3</th>\n",
              "      <td>Brazil</td>\n",
              "      <td>9.435287e+05</td>\n",
              "    </tr>\n",
              "    <tr>\n",
              "      <th>4</th>\n",
              "      <td>Indonesia</td>\n",
              "      <td>8.462893e+05</td>\n",
              "    </tr>\n",
              "    <tr>\n",
              "      <th>...</th>\n",
              "      <td>...</td>\n",
              "      <td>...</td>\n",
              "    </tr>\n",
              "    <tr>\n",
              "      <th>218</th>\n",
              "      <td>Wallis and Futuna</td>\n",
              "      <td>3.388649e+01</td>\n",
              "    </tr>\n",
              "    <tr>\n",
              "      <th>219</th>\n",
              "      <td>Tokelau</td>\n",
              "      <td>1.739823e+01</td>\n",
              "    </tr>\n",
              "    <tr>\n",
              "      <th>220</th>\n",
              "      <td>Niue</td>\n",
              "      <td>1.631698e+01</td>\n",
              "    </tr>\n",
              "    <tr>\n",
              "      <th>221</th>\n",
              "      <td>Montserrat</td>\n",
              "      <td>1.053659e+01</td>\n",
              "    </tr>\n",
              "    <tr>\n",
              "      <th>222</th>\n",
              "      <td>Pitcairn</td>\n",
              "      <td>5.119048e-01</td>\n",
              "    </tr>\n",
              "  </tbody>\n",
              "</table>\n",
              "<p>223 rows × 2 columns</p>\n",
              "</div>"
            ],
            "text/plain": [
              "                  pais  media_vacinacao\n",
              "0                China     6.930368e+06\n",
              "1                India     4.175994e+06\n",
              "2        United States     1.191727e+06\n",
              "3               Brazil     9.435287e+05\n",
              "4            Indonesia     8.462893e+05\n",
              "..                 ...              ...\n",
              "218  Wallis and Futuna     3.388649e+01\n",
              "219            Tokelau     1.739823e+01\n",
              "220               Niue     1.631698e+01\n",
              "221         Montserrat     1.053659e+01\n",
              "222           Pitcairn     5.119048e-01\n",
              "\n",
              "[223 rows x 2 columns]"
            ]
          },
          "execution_count": 34,
          "metadata": {},
          "output_type": "execute_result"
        }
      ],
      "source": [
        "media_pais"
      ]
    },
    {
      "cell_type": "code",
      "execution_count": null,
      "id": "afa99838",
      "metadata": {
        "id": "afa99838",
        "outputId": "430bba3b-dd2e-4f44-d061-f68173b9a9b6"
      },
      "outputs": [
        {
          "data": {
            "text/html": [
              "<div>\n",
              "<style scoped>\n",
              "    .dataframe tbody tr th:only-of-type {\n",
              "        vertical-align: middle;\n",
              "    }\n",
              "\n",
              "    .dataframe tbody tr th {\n",
              "        vertical-align: top;\n",
              "    }\n",
              "\n",
              "    .dataframe thead th {\n",
              "        text-align: right;\n",
              "    }\n",
              "</style>\n",
              "<table border=\"1\" class=\"dataframe\">\n",
              "  <thead>\n",
              "    <tr style=\"text-align: right;\">\n",
              "      <th></th>\n",
              "      <th>pais</th>\n",
              "      <th>vacina_utilizada</th>\n",
              "    </tr>\n",
              "  </thead>\n",
              "  <tbody>\n",
              "    <tr>\n",
              "      <th>0</th>\n",
              "      <td>Afghanistan</td>\n",
              "      <td>[Johnson&amp;Johnson, Oxford/AstraZeneca, Pfizer/B...</td>\n",
              "    </tr>\n",
              "    <tr>\n",
              "      <th>1</th>\n",
              "      <td>Albania</td>\n",
              "      <td>[Oxford/AstraZeneca, Pfizer/BioNTech, Sinovac,...</td>\n",
              "    </tr>\n",
              "    <tr>\n",
              "      <th>2</th>\n",
              "      <td>Algeria</td>\n",
              "      <td>[Oxford/AstraZeneca, Sinopharm/Beijing, Sinova...</td>\n",
              "    </tr>\n",
              "    <tr>\n",
              "      <th>3</th>\n",
              "      <td>Andorra</td>\n",
              "      <td>[Moderna, Oxford/AstraZeneca, Pfizer/BioNTech]</td>\n",
              "    </tr>\n",
              "    <tr>\n",
              "      <th>4</th>\n",
              "      <td>Angola</td>\n",
              "      <td>[Oxford/AstraZeneca]</td>\n",
              "    </tr>\n",
              "  </tbody>\n",
              "</table>\n",
              "</div>"
            ],
            "text/plain": [
              "          pais                                   vacina_utilizada\n",
              "0  Afghanistan  [Johnson&Johnson, Oxford/AstraZeneca, Pfizer/B...\n",
              "1      Albania  [Oxford/AstraZeneca, Pfizer/BioNTech, Sinovac,...\n",
              "2      Algeria  [Oxford/AstraZeneca, Sinopharm/Beijing, Sinova...\n",
              "3      Andorra     [Moderna, Oxford/AstraZeneca, Pfizer/BioNTech]\n",
              "4       Angola                               [Oxford/AstraZeneca]"
            ]
          },
          "execution_count": 35,
          "metadata": {},
          "output_type": "execute_result"
        }
      ],
      "source": [
        "vacinas_pais = vacinas_pais.rename(columns={'country' : 'pais', 'vaccines' : 'vacina_utilizada'})\n",
        "vacinas_pais[:5]"
      ]
    },
    {
      "cell_type": "code",
      "execution_count": null,
      "id": "e0f9f338",
      "metadata": {
        "id": "e0f9f338",
        "outputId": "634eab27-8189-4a23-92f5-ccc7673fabfd"
      },
      "outputs": [
        {
          "data": {
            "text/html": [
              "<div>\n",
              "<style scoped>\n",
              "    .dataframe tbody tr th:only-of-type {\n",
              "        vertical-align: middle;\n",
              "    }\n",
              "\n",
              "    .dataframe tbody tr th {\n",
              "        vertical-align: top;\n",
              "    }\n",
              "\n",
              "    .dataframe thead th {\n",
              "        text-align: right;\n",
              "    }\n",
              "</style>\n",
              "<table border=\"1\" class=\"dataframe\">\n",
              "  <thead>\n",
              "    <tr style=\"text-align: right;\">\n",
              "      <th></th>\n",
              "      <th>pais</th>\n",
              "      <th>imunizados</th>\n",
              "    </tr>\n",
              "  </thead>\n",
              "  <tbody>\n",
              "    <tr>\n",
              "      <th>0</th>\n",
              "      <td>China</td>\n",
              "      <td>3.263129e+09</td>\n",
              "    </tr>\n",
              "    <tr>\n",
              "      <th>1</th>\n",
              "      <td>India</td>\n",
              "      <td>1.834501e+09</td>\n",
              "    </tr>\n",
              "    <tr>\n",
              "      <th>2</th>\n",
              "      <td>United States</td>\n",
              "      <td>5.601818e+08</td>\n",
              "    </tr>\n",
              "    <tr>\n",
              "      <th>3</th>\n",
              "      <td>Brazil</td>\n",
              "      <td>4.135596e+08</td>\n",
              "    </tr>\n",
              "    <tr>\n",
              "      <th>4</th>\n",
              "      <td>Indonesia</td>\n",
              "      <td>3.771089e+08</td>\n",
              "    </tr>\n",
              "  </tbody>\n",
              "</table>\n",
              "</div>"
            ],
            "text/plain": [
              "            pais    imunizados\n",
              "0          China  3.263129e+09\n",
              "1          India  1.834501e+09\n",
              "2  United States  5.601818e+08\n",
              "3         Brazil  4.135596e+08\n",
              "4      Indonesia  3.771089e+08"
            ]
          },
          "execution_count": 36,
          "metadata": {},
          "output_type": "execute_result"
        }
      ],
      "source": [
        "imunizados = imunizados.rename(columns={'country' : 'pais', 'total_vaccinations' : 'imunizados'})\n",
        "imunizados[:5]"
      ]
    },
    {
      "cell_type": "markdown",
      "id": "411b8220",
      "metadata": {
        "id": "411b8220"
      },
      "source": [
        "# Criando um novo dataset"
      ]
    },
    {
      "cell_type": "code",
      "execution_count": null,
      "id": "ea1b27d7",
      "metadata": {
        "id": "ea1b27d7"
      },
      "outputs": [],
      "source": [
        "dados_tratados = pd.merge(imunizados, media_pais, how='inner')"
      ]
    },
    {
      "cell_type": "code",
      "execution_count": null,
      "id": "fb1b5c43",
      "metadata": {
        "id": "fb1b5c43",
        "outputId": "21faa504-720e-4b7f-a425-2c0108c08c7b"
      },
      "outputs": [
        {
          "data": {
            "text/html": [
              "<div>\n",
              "<style scoped>\n",
              "    .dataframe tbody tr th:only-of-type {\n",
              "        vertical-align: middle;\n",
              "    }\n",
              "\n",
              "    .dataframe tbody tr th {\n",
              "        vertical-align: top;\n",
              "    }\n",
              "\n",
              "    .dataframe thead th {\n",
              "        text-align: right;\n",
              "    }\n",
              "</style>\n",
              "<table border=\"1\" class=\"dataframe\">\n",
              "  <thead>\n",
              "    <tr style=\"text-align: right;\">\n",
              "      <th></th>\n",
              "      <th>pais</th>\n",
              "      <th>imunizados</th>\n",
              "      <th>media_vacinacao</th>\n",
              "      <th>vacina_utilizada</th>\n",
              "    </tr>\n",
              "  </thead>\n",
              "  <tbody>\n",
              "    <tr>\n",
              "      <th>0</th>\n",
              "      <td>China</td>\n",
              "      <td>3.263129e+09</td>\n",
              "      <td>6.930368e+06</td>\n",
              "      <td>[CanSino, Sinopharm/Beijing, Sinopharm/Wuhan, ...</td>\n",
              "    </tr>\n",
              "    <tr>\n",
              "      <th>1</th>\n",
              "      <td>India</td>\n",
              "      <td>1.834501e+09</td>\n",
              "      <td>4.175994e+06</td>\n",
              "      <td>[Covaxin, Oxford/AstraZeneca, Sputnik V]</td>\n",
              "    </tr>\n",
              "    <tr>\n",
              "      <th>2</th>\n",
              "      <td>United States</td>\n",
              "      <td>5.601818e+08</td>\n",
              "      <td>1.191727e+06</td>\n",
              "      <td>[Johnson&amp;Johnson, Moderna, Pfizer/BioNTech]</td>\n",
              "    </tr>\n",
              "    <tr>\n",
              "      <th>3</th>\n",
              "      <td>Brazil</td>\n",
              "      <td>4.135596e+08</td>\n",
              "      <td>9.435287e+05</td>\n",
              "      <td>[Johnson&amp;Johnson, Oxford/AstraZeneca, Pfizer/B...</td>\n",
              "    </tr>\n",
              "    <tr>\n",
              "      <th>4</th>\n",
              "      <td>Indonesia</td>\n",
              "      <td>3.771089e+08</td>\n",
              "      <td>8.462893e+05</td>\n",
              "      <td>[Johnson&amp;Johnson, Moderna, Novavax, Oxford/Ast...</td>\n",
              "    </tr>\n",
              "    <tr>\n",
              "      <th>...</th>\n",
              "      <td>...</td>\n",
              "      <td>...</td>\n",
              "      <td>...</td>\n",
              "      <td>...</td>\n",
              "    </tr>\n",
              "    <tr>\n",
              "      <th>218</th>\n",
              "      <td>Falkland Islands</td>\n",
              "      <td>4.407000e+03</td>\n",
              "      <td>7.474242e+01</td>\n",
              "      <td>[Oxford/AstraZeneca]</td>\n",
              "    </tr>\n",
              "    <tr>\n",
              "      <th>219</th>\n",
              "      <td>Montserrat</td>\n",
              "      <td>4.211000e+03</td>\n",
              "      <td>1.053659e+01</td>\n",
              "      <td>[Oxford/AstraZeneca]</td>\n",
              "    </tr>\n",
              "    <tr>\n",
              "      <th>220</th>\n",
              "      <td>Niue</td>\n",
              "      <td>4.161000e+03</td>\n",
              "      <td>1.631698e+01</td>\n",
              "      <td>[Pfizer/BioNTech]</td>\n",
              "    </tr>\n",
              "    <tr>\n",
              "      <th>221</th>\n",
              "      <td>Tokelau</td>\n",
              "      <td>1.936000e+03</td>\n",
              "      <td>1.739823e+01</td>\n",
              "      <td>[Pfizer/BioNTech]</td>\n",
              "    </tr>\n",
              "    <tr>\n",
              "      <th>222</th>\n",
              "      <td>Pitcairn</td>\n",
              "      <td>9.400000e+01</td>\n",
              "      <td>5.119048e-01</td>\n",
              "      <td>[Oxford/AstraZeneca]</td>\n",
              "    </tr>\n",
              "  </tbody>\n",
              "</table>\n",
              "<p>223 rows × 4 columns</p>\n",
              "</div>"
            ],
            "text/plain": [
              "                 pais    imunizados  media_vacinacao  \\\n",
              "0               China  3.263129e+09     6.930368e+06   \n",
              "1               India  1.834501e+09     4.175994e+06   \n",
              "2       United States  5.601818e+08     1.191727e+06   \n",
              "3              Brazil  4.135596e+08     9.435287e+05   \n",
              "4           Indonesia  3.771089e+08     8.462893e+05   \n",
              "..                ...           ...              ...   \n",
              "218  Falkland Islands  4.407000e+03     7.474242e+01   \n",
              "219        Montserrat  4.211000e+03     1.053659e+01   \n",
              "220              Niue  4.161000e+03     1.631698e+01   \n",
              "221           Tokelau  1.936000e+03     1.739823e+01   \n",
              "222          Pitcairn  9.400000e+01     5.119048e-01   \n",
              "\n",
              "                                      vacina_utilizada  \n",
              "0    [CanSino, Sinopharm/Beijing, Sinopharm/Wuhan, ...  \n",
              "1             [Covaxin, Oxford/AstraZeneca, Sputnik V]  \n",
              "2          [Johnson&Johnson, Moderna, Pfizer/BioNTech]  \n",
              "3    [Johnson&Johnson, Oxford/AstraZeneca, Pfizer/B...  \n",
              "4    [Johnson&Johnson, Moderna, Novavax, Oxford/Ast...  \n",
              "..                                                 ...  \n",
              "218                               [Oxford/AstraZeneca]  \n",
              "219                               [Oxford/AstraZeneca]  \n",
              "220                                  [Pfizer/BioNTech]  \n",
              "221                                  [Pfizer/BioNTech]  \n",
              "222                               [Oxford/AstraZeneca]  \n",
              "\n",
              "[223 rows x 4 columns]"
            ]
          },
          "execution_count": 38,
          "metadata": {},
          "output_type": "execute_result"
        }
      ],
      "source": [
        "dados_tratados = pd.merge(dados_tratados, vacinas_pais)\n",
        "dados_tratados"
      ]
    },
    {
      "cell_type": "markdown",
      "id": "e5af571e",
      "metadata": {
        "id": "e5af571e"
      },
      "source": [
        "# Exportando dados tratados"
      ]
    },
    {
      "cell_type": "code",
      "execution_count": null,
      "id": "de0e2bcb",
      "metadata": {
        "id": "de0e2bcb"
      },
      "outputs": [],
      "source": [
        "dados_tratados.to_csv('estatistica.csv', index=True, sep=';')"
      ]
    }
  ],
  "metadata": {
    "kernelspec": {
      "display_name": "coleta_dados",
      "language": "python",
      "name": "coleta_dados"
    },
    "language_info": {
      "codemirror_mode": {
        "name": "ipython",
        "version": 3
      },
      "file_extension": ".py",
      "mimetype": "text/x-python",
      "name": "python",
      "nbconvert_exporter": "python",
      "pygments_lexer": "ipython3",
      "version": "3.10.1"
    },
    "varInspector": {
      "cols": {
        "lenName": 16,
        "lenType": 16,
        "lenVar": 40
      },
      "kernels_config": {
        "python": {
          "delete_cmd_postfix": "",
          "delete_cmd_prefix": "del ",
          "library": "var_list.py",
          "varRefreshCmd": "print(var_dic_list())"
        },
        "r": {
          "delete_cmd_postfix": ") ",
          "delete_cmd_prefix": "rm(",
          "library": "var_list.r",
          "varRefreshCmd": "cat(var_dic_list()) "
        }
      },
      "types_to_exclude": [
        "module",
        "function",
        "builtin_function_or_method",
        "instance",
        "_Feature"
      ],
      "window_display": false
    },
    "colab": {
      "provenance": [],
      "include_colab_link": true
    }
  },
  "nbformat": 4,
  "nbformat_minor": 5
}